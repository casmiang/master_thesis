{
 "cells": [
  {
   "cell_type": "markdown",
   "metadata": {},
   "source": [
    "# Plotting $\\beta$-Skeleton structure with different $\\beta$ values."
   ]
  },
  {
   "cell_type": "code",
   "execution_count": 1,
   "metadata": {},
   "outputs": [],
   "source": [
    "import numpy as np\n",
    "import matplotlib.pyplot as plt"
   ]
  },
  {
   "cell_type": "code",
   "execution_count": 2,
   "metadata": {},
   "outputs": [],
   "source": [
    "BoxLength = 60\n",
    "R = 20\n",
    "filename = \"SV_R\" + str(R) + \"_BS\" + str(BoxLength) + \"_c.cat\"\n",
    "\n",
    "catalog = np.loadtxt(filename)\n",
    "\n",
    "X = catalog[:,0]\n",
    "Y = catalog[:,1]\n",
    "Z = catalog[:,2]"
   ]
  },
  {
   "cell_type": "code",
   "execution_count": 3,
   "metadata": {},
   "outputs": [
    {
     "data": {
      "text/plain": [
       "<matplotlib.collections.PathCollection at 0x7f992a9e3438>"
      ]
     },
     "execution_count": 3,
     "metadata": {},
     "output_type": "execute_result"
    },
    {
     "data": {
      "image/png": "[encoded data removed]",
      "text/plain": [
       "<Figure size 360x360 with 1 Axes>"
      ]
     },
     "metadata": {},
     "output_type": "display_data"
    }
   ],
   "source": [
    "index = np.where( abs(catalog[:,2] - BoxLength / 2) < R / 2 )\n",
    "\n",
    "\n",
    "fig = plt.figure(figsize=[5,5])\n",
    "plt.scatter(catalog[index,0], catalog[index,1], s=0.2)"
   ]
  },
  {
   "cell_type": "code",
   "execution_count": 4,
   "metadata": {},
   "outputs": [],
   "source": [
    "\"\"\"\n",
    "Beta_list = [ \"0.3\",  \"0.4\",  \"0.5\",  \"0.6\",  \"0.7\",  \"0.8\",  \"0.9\",  \"0.92\", \"0.94\", \"0.96\", \"0.98\", \n",
    "            \"0.99\", \"1.0\" ,  \"1.1\",  \"1.2\",  \"1.3\",\n",
    "        \"1.4\",  \"1.5\",  \"1.6\",  \"1.7\",  \"1.8\",  \"1.9\",  \"2.0\" ,  \"2.1\",  \"2.2\",  \"2.3\",  \"2.4\",\n",
    "        \"2.5\",  \"2.6\",  \"2.7\",  \"2.8\",  \"2.9\",  \"3.0\" ,  \"3.2\",  \"3.4\",  \"3.6\",  \"3.8\",  \"4.0\" ,\n",
    "        \"4.5\",  \"5.0\" ,  \"5.5\",  \"6.0\" ,  \"7.0\" ,  \"8.0\" ,  \"9.0\" , \"10.0\"]\n",
    "\"\"\"\n",
    "Beta_list = [ \"0.99\"]"
   ]
  },
  {
   "cell_type": "code",
   "execution_count": 5,
   "metadata": {},
   "outputs": [
    {
     "data": {
      "text/plain": [
       "1"
      ]
     },
     "execution_count": 5,
     "metadata": {},
     "output_type": "execute_result"
    }
   ],
   "source": [
    "len(Beta_list)"
   ]
  },
  {
   "cell_type": "markdown",
   "metadata": {},
   "source": [
    "SV_R20_BS60_B_1.3.bsk"
   ]
  },
  {
   "cell_type": "code",
   "execution_count": 6,
   "metadata": {
    "scrolled": true
   },
   "outputs": [],
   "source": [
    "for m in range(len(Beta_list)):\n",
    "    beta_x = np.loadtxt(\"SV_R20_BS60_B_\" + Beta_list[m] + \".bsk\")\n",
    "\n",
    "    fig = plt.figure(figsize=(6,6))\n",
    "    for k in beta_x:\n",
    "        i = int(k[0])\n",
    "        j = int(k[1])\n",
    "        if ( (abs(Z[i] - BoxLength / 2) < R / 5) & (abs(Z[j] - BoxLength / 2) < R / 5) ) :\n",
    "            plt.plot( (X[i],X[j]), (Y[i],Y[j]) )\n",
    "        # print(k)\n",
    "    plt.xlim(0,BoxLength)\n",
    "    plt.ylim(0,BoxLength)\n",
    "\n",
    "    plt.title(\"Spherical Void (R = 20Mpc/h)\\n\" + r\"$\\beta =$ \" + Beta_list[m])\n",
    "\n",
    "    plt.xlabel(\"X (Mpc/h)\")\n",
    "    plt.ylabel(\"Y (Mpc/h)\")\n",
    "\n",
    "\n",
    "    plt.savefig( \"beta_\" + Beta_list[m] + \".png\" )\n",
    "    \n",
    "    plt.close()"
   ]
  },
  {
   "cell_type": "code",
   "execution_count": null,
   "metadata": {},
   "outputs": [],
   "source": []
  }
 ],
 "metadata": {
  "kernelspec": {
   "display_name": "Python 3",
   "language": "python",
   "name": "python3"
  },
  "language_info": {
   "codemirror_mode": {
    "name": "ipython",
    "version": 3
   },
   "file_extension": ".py",
   "mimetype": "text/x-python",
   "name": "python",
   "nbconvert_exporter": "python",
   "pygments_lexer": "ipython3",
   "version": "3.6.5"
  }
 },
 "nbformat": 4,
 "nbformat_minor": 2
}
