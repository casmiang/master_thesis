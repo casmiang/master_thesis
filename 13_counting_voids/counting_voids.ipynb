{
 "cells": [
  {
   "cell_type": "markdown",
   "metadata": {},
   "source": [
    "# Counting particles and Voids\n",
    "\n",
    "In this notebook is explored how the ratio $N_{\\textbf{RP}} : N_{\\textbf{OP}}$ affects the void catalog.\n",
    "\n",
    "All the calculations up to the date where performed on my laptop, the old"
   ]
  },
  {
   "cell_type": "code",
   "execution_count": 1,
   "metadata": {},
   "outputs": [
    {
     "name": "stdout",
     "output_type": "stream",
     "text": [
      "Populating the interactive namespace from numpy and matplotlib\n"
     ]
    }
   ],
   "source": [
    "%pylab inline"
   ]
  },
  {
   "cell_type": "code",
   "execution_count": 2,
   "metadata": {},
   "outputs": [],
   "source": [
    "! cp ../12_abacus_3N_random_particles/void_masterlist_N30000.cat ./\n",
    "! cp ../11_abacus_2N_random_particles/void_masterlist_N20000.cat ./\n",
    "! cp ../10_abacus_N_random_particles/void_masterlist_N10000.cat ./\n"
   ]
  },
  {
   "cell_type": "code",
   "execution_count": 2,
   "metadata": {},
   "outputs": [
    {
     "name": "stdout",
     "output_type": "stream",
     "text": [
      "total 2884\r\n",
      "-rw-rw-r-- 1 filipo filipo   71043 feb 22 11:44 Untitled.ipynb\r\n",
      "-rw-rw-r-- 1 filipo filipo  278804 feb 20 16:29 void_masterlist_N10000.cat\r\n",
      "-rw-rw-r-- 1 filipo filipo  910622 feb 20 16:29 void_masterlist_N20000.cat\r\n",
      "-rw-rw-r-- 1 filipo filipo 1559595 feb 20 16:29 void_masterlist_N30000.cat\r\n",
      "-rw-rw-r-- 1 filipo filipo  117913 feb 20 15:48 ol_reliable.jpg\r\n"
     ]
    }
   ],
   "source": [
    "! ls -lt"
   ]
  },
  {
   "cell_type": "code",
   "execution_count": 3,
   "metadata": {},
   "outputs": [],
   "source": [
    "cat_1N = np.loadtxt(\"void_masterlist_N10000.cat\", delimiter=\",\")\n",
    "cat_2N = np.loadtxt(\"void_masterlist_N20000.cat\", delimiter=\",\")\n",
    "cat_3N = np.loadtxt(\"void_masterlist_N30000.cat\", delimiter=\",\")"
   ]
  },
  {
   "cell_type": "markdown",
   "metadata": {},
   "source": [
    "# How many particles have each halo?"
   ]
  },
  {
   "cell_type": "code",
   "execution_count": 14,
   "metadata": {},
   "outputs": [
    {
     "name": "stdout",
     "output_type": "stream",
     "text": [
      "143 165 163\n",
      "12\n"
     ]
    }
   ],
   "source": [
    "n_halos_cat1N = cat_1N[-1,0].astype(int)\n",
    "n_halos_cat2N = cat_2N[-1,0].astype(int)\n",
    "n_halos_cat3N = cat_3N[-1,0].astype(int)\n",
    "\n",
    "N1 = 10000\n",
    "N2 = 2*N1\n",
    "N3 = 3*N1\n",
    "\n",
    "\n",
    "print( n_halos_cat1N, n_halos_cat2N, n_halos_cat3N)\n"
   ]
  },
  {
   "cell_type": "code",
   "execution_count": 5,
   "metadata": {},
   "outputs": [
    {
     "data": {
      "text/plain": [
       "10.969613104865235"
      ]
     },
     "execution_count": 5,
     "metadata": {},
     "output_type": "execute_result"
    }
   ],
   "source": [
    "2 * 165 ** (1/3)"
   ]
  },
  {
   "cell_type": "code",
   "execution_count": 36,
   "metadata": {},
   "outputs": [
    {
     "data": {
      "text/plain": [
       "array([1.00000000e-04, 2.51188643e-04, 6.30957344e-04, 1.58489319e-03,\n",
       "       3.98107171e-03, 1.00000000e-02, 2.51188643e-02, 6.30957344e-02,\n",
       "       1.58489319e-01, 3.98107171e-01, 1.00000000e+00])"
      ]
     },
     "execution_count": 36,
     "metadata": {},
     "output_type": "execute_result"
    }
   ],
   "source": [
    "np.logspace(-4, 0, 11 )  "
   ]
  },
  {
   "cell_type": "code",
   "execution_count": 41,
   "metadata": {
    "scrolled": true
   },
   "outputs": [
    {
     "data": {
      "image/png": "[encoded data removed]",
      "text/plain": [
       "<Figure size 504x288 with 1 Axes>"
      ]
     },
     "metadata": {},
     "output_type": "display_data"
    }
   ],
   "source": [
    "catalogs = [cat_1N, cat_2N, cat_3N]\n",
    "n_halos_per_catalog = [n_halos_cat1N, n_halos_cat2N, n_halos_cat3N]\n",
    "label_cat = [\"1:1\", \"2:1\", \"3:1\"]\n",
    "N = [ N1, N2, N3]\n",
    "\n",
    "fig = figure(figsize=(7,4))\n",
    "\n",
    "\n",
    "hists = []\n",
    "\n",
    "\n",
    "bins = np.logspace(-4, 0, 11 )  \n",
    "for j in range(len(catalogs)):\n",
    "    \n",
    "    \n",
    "    aux = [] # Counting particles per halo\n",
    "    \n",
    "    for i in range(n_halos_per_catalog[j] ):\n",
    "        \n",
    "        index = np.where( catalogs[j][:,0] == i)[0]\n",
    "        aux.append(index.shape[0])\n",
    "    \n",
    "    aux = np.array(aux)/N[j]\n",
    "        \n",
    "\n",
    "    hists.append(hist(aux, alpha=0.5, label=label_cat[j], bins=bins, histtype=\"bar\"))\n",
    "\n",
    "\n",
    "    plt.ylabel(\"Number of Halos\")\n",
    "    plt.xlabel(\"Volume Fraction\")\n",
    "    plt.yscale('log')\n",
    "    plt.xscale('log')\n",
    "\n",
    "    plt.legend(loc=1)\n",
    "    \n",
    "    plt.savefig(\"volume_function.pdf\", format=\"pdf\")\n",
    "    "
   ]
  },
  {
   "cell_type": "code",
   "execution_count": 42,
   "metadata": {},
   "outputs": [],
   "source": [
    "histograms = [\n",
    "hists[0][0],\n",
    "hists[1][0],\n",
    "hists[2][0]\n",
    "]"
   ]
  },
  {
   "cell_type": "code",
   "execution_count": 46,
   "metadata": {},
   "outputs": [
    {
     "data": {
      "text/plain": [
       "[array([ 0., 36., 41., 37., 20.,  6.,  3.,  0.,  0.,  0.]),\n",
       " array([17., 43., 50., 30., 14.,  4.,  5.,  2.,  0.,  0.]),\n",
       " array([33., 46., 51., 21.,  9.,  2.,  0.,  0.,  0.,  1.])]"
      ]
     },
     "execution_count": 46,
     "metadata": {},
     "output_type": "execute_result"
    }
   ],
   "source": [
    "histograms"
   ]
  },
  {
   "cell_type": "code",
   "execution_count": 47,
   "metadata": {},
   "outputs": [],
   "source": [
    "center_bins = []\n",
    "for i in range( len(bins) -1):\n",
    "    center_bins.append((log10(bins[i+1]) + log10(bins[i]))/2 )"
   ]
  },
  {
   "cell_type": "code",
   "execution_count": 48,
   "metadata": {},
   "outputs": [],
   "source": [
    "histograms[histograms == 0 ] = np.nan"
   ]
  },
  {
   "cell_type": "code",
   "execution_count": 52,
   "metadata": {},
   "outputs": [
    {
     "data": {
      "image/png": "[encoded data removed]",
      "text/plain": [
       "<Figure size 432x288 with 1 Axes>"
      ]
     },
     "metadata": {},
     "output_type": "display_data"
    }
   ],
   "source": [
    "\n",
    "for i in range(3):\n",
    "    plot( 10**np.array(center_bins), histograms2[i],  marker=\".\", label=label_cat[i])\n",
    "\n",
    "plt.yscale(\"log\")\n",
    "\n",
    "plt.xlabel(\"Volume Fraction\")\n",
    "plt.ylabel(\"Number of Voids\")\n",
    "\n",
    "plt.xscale(\"log\")\n",
    "plt.ylim(0.8,110)\n",
    "plt.legend(loc=1)\n",
    "\n",
    "plt.savefig(\"volume_function_log.pdf\", format=\"pdf\")"
   ]
  },
  {
   "cell_type": "code",
   "execution_count": null,
   "metadata": {},
   "outputs": [],
   "source": []
  },
  {
   "cell_type": "code",
   "execution_count": 36,
   "metadata": {},
   "outputs": [
    {
     "data": {
      "image/png": "[encoded data removed]",
      "text/plain": [
       "<Figure size 432x288 with 1 Axes>"
      ]
     },
     "metadata": {},
     "output_type": "display_data"
    }
   ],
   "source": [
    "# Number of particles per halo\n",
    "\n",
    "# Re-scaled to 1N, 2N and 3N\n",
    "\n",
    "hist(cat_1N[:,0], alpha=0.5, label=\"1:1\", density=N1)\n",
    "hist(cat_2N[:,0], alpha=0.5, label=\"2:1\", density=N2)\n",
    "hist(cat_3N[:,0], alpha=0.5, label=\"3:1\", density=N3)\n",
    "\n",
    "plt.legend(loc=1)\n",
    "plt.ylabel(\"Number of Particles\")\n",
    "plt.xlabel(\"Halo ID\")\n",
    "plt.yscale(\"log\")"
   ]
  },
  {
   "cell_type": "code",
   "execution_count": 37,
   "metadata": {},
   "outputs": [
    {
     "data": {
      "image/png": "[encoded data removed]",
      "text/plain": [
       "<Figure size 432x288 with 1 Axes>"
      ]
     },
     "metadata": {},
     "output_type": "display_data"
    }
   ],
   "source": [
    "# Number of particles per halo\n",
    "\n",
    "hist(cat_1N[:,0], alpha=0.5, label=\"1:1\")\n",
    "hist(cat_2N[:,0], alpha=0.5, label=\"2:1\")\n",
    "hist(cat_3N[:,0], alpha=0.5, label=\"3:1\")\n",
    "\n",
    "plt.legend(loc=1)\n",
    "plt.ylabel(\"Number of Particles\")\n",
    "plt.xlabel(\"Halo ID\")\n",
    "plt.yscale(\"log\")"
   ]
  },
  {
   "cell_type": "code",
   "execution_count": null,
   "metadata": {},
   "outputs": [],
   "source": []
  },
  {
   "cell_type": "code",
   "execution_count": 30,
   "metadata": {},
   "outputs": [
    {
     "data": {
      "text/plain": [
       "<matplotlib.legend.Legend at 0x7fe081d68668>"
      ]
     },
     "execution_count": 30,
     "metadata": {},
     "output_type": "execute_result"
    },
    {
     "data": {
      "image/png": "[encoded data removed]",
      "text/plain": [
       "<Figure size 432x288 with 1 Axes>"
      ]
     },
     "metadata": {},
     "output_type": "display_data"
    }
   ],
   "source": [
    "n = hist(cat_1N[:,0], alpha=0.5, label=\"1:1\")\n",
    "m = hist(cat_2N[:,0], alpha=0.5, label=\"2:1\")\n",
    "o = hist(cat_3N[:,0], alpha=0.5, label=\"3:1\")\n",
    "yscale(\"log\")\n",
    "plt.legend(loc=1)"
   ]
  },
  {
   "cell_type": "code",
   "execution_count": 52,
   "metadata": {},
   "outputs": [
    {
     "data": {
      "text/plain": [
       "(array([  101.,   106., 19206.,  1273.,   813.,  1539.,   520.,   380.,\n",
       "          577.,   452.]),\n",
       " array([  0. ,  16.3,  32.6,  48.9,  65.2,  81.5,  97.8, 114.1, 130.4,\n",
       "        146.7, 163. ]),\n",
       " <a list of 10 Patch objects>)"
      ]
     },
     "execution_count": 52,
     "metadata": {},
     "output_type": "execute_result"
    }
   ],
   "source": [
    "n"
   ]
  },
  {
   "cell_type": "code",
   "execution_count": null,
   "metadata": {},
   "outputs": [],
   "source": []
  }
 ],
 "metadata": {
  "kernelspec": {
   "display_name": "Python 3",
   "language": "python",
   "name": "python3"
  },
  "language_info": {
   "codemirror_mode": {
    "name": "ipython",
    "version": 3
   },
   "file_extension": ".py",
   "mimetype": "text/x-python",
   "name": "python",
   "nbconvert_exporter": "python",
   "pygments_lexer": "ipython3",
   "version": "3.6.5"
  }
 },
 "nbformat": 4,
 "nbformat_minor": 2
}
