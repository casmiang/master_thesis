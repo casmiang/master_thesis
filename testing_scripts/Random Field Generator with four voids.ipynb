{
 "cells": [
  {
   "cell_type": "markdown",
   "metadata": {},
   "source": [
    "# Generator of a Random Field Catalog with four Spherical Voids\n",
    "\n",
    "Spatial distribution of points: uniform\n",
    "\n",
    "Box Length: 60 Mpc/h\n",
    "\n",
    "Void position: center of the Box\n",
    "\n",
    "\n",
    "### Abacus Cosmos 720 box Plank\n",
    "\n",
    "Number of Halos: 8'714.934\n",
    "\n",
    "Volume = ( 720 Mpc/h )**3\n",
    "\n",
    "Halo density: 0.02334891010802469 halo/ (Mpc/h)**3"
   ]
  },
  {
   "cell_type": "code",
   "execution_count": 1,
   "metadata": {},
   "outputs": [
    {
     "name": "stdout",
     "output_type": "stream",
     "text": [
      "Box Length: 60\n",
      "Number of Particles: 5043\n",
      "Void Radius: [20, 10, 10, 12]\n",
      "Void Centers: [[22.5 22.5 22.5]\n",
      " [45.  45.  15. ]\n",
      " [45.  15.  45. ]\n",
      " [15.  45.  45. ]]\n",
      "random seed: 1\n"
     ]
    }
   ],
   "source": [
    "import numpy as np\n",
    "import matplotlib.pyplot as plt\n",
    "import random as rand\n",
    "\n",
    "# Halos per (Mpc/h)**3\n",
    "D_halo = 0.02334891010802469\n",
    "\n",
    "# Cubic box size (Mpc/h)\n",
    "BL = 60\n",
    "\n",
    "# Void radius (Mpc/h)\n",
    "R = [20, 10, 10, 12 ]\n",
    "\n",
    "# Void Center(Mpc/h)\n",
    "C = np.array([[ 3/8. , 3/8. , 3/8.],\n",
    "              [ 3/4. , 3/4. , 1/4.],\n",
    "              [ 3/4. , 1/4. , 3/4.],\n",
    "              [ 1/4. , 3/4. , 3/4.]]) * BL\n",
    "\n",
    "# Void Type \n",
    "# \"clean\" (without galaxies inside) or \"dirty\" (with sparse galaxies)\n",
    "VoidType = \"clean\"\n",
    "# If VoidType = \"dirty\", P_o = Probability to find a galaxy inside the void:\n",
    "p_0 = 0.1\n",
    "\n",
    "# Number of particles\n",
    "N = int( D_halo * (BL)**3 ) \n",
    "\n",
    "print(\"Box Length:\", BL)\n",
    "print(\"Number of Particles:\",N)\n",
    "print(\"Void Radius:\", R)\n",
    "print(\"Void Centers:\", C)\n",
    "\n",
    "# Initialize random seed\n",
    "seed = 1\n",
    "rand.seed(1)\n",
    "print (\"random seed:\", seed)\n",
    "\n",
    "\n",
    "def IsInsideVoids(v):\n",
    "    # Position vector components\n",
    "    x = v[0]\n",
    "    y = v[1]\n",
    "    z = v[2]\n",
    "    \n",
    "    for i in range( len(C)):\n",
    "        # Void sphere center\n",
    "        x0 = C[i,0]\n",
    "        y0 = C[i,1]\n",
    "        z0 = C[i,2]\n",
    "        \n",
    "        # Distance to the void center\n",
    "        d = ( (x0 - x)**2 + (y0 - y)**2 + (z0 - z)**2)**0.5 \n",
    "    \n",
    "        if ( d < R[i] ):\n",
    "            return 1;\n",
    "    \n",
    "    return 0;\n",
    "    \n",
    "\n",
    "def rand_pos():\n",
    "    x = rand.random() * BL\n",
    "    y = rand.random() * BL\n",
    "    z = rand.random() * BL   \n",
    "    return ([x,y,z])"
   ]
  },
  {
   "cell_type": "code",
   "execution_count": 2,
   "metadata": {},
   "outputs": [
    {
     "name": "stdout",
     "output_type": "stream",
     "text": [
      "positions.shape: (5043, 3)\n"
     ]
    }
   ],
   "source": [
    "positions = []\n",
    "\n",
    "for i in range(N): \n",
    "    r = rand_pos();\n",
    "    \n",
    "    if( VoidType == \"clean\"):\n",
    "        while ( IsInsideVoids(r) ):\n",
    "            r = rand_pos()\n",
    "    elif(VoidType == \"dirty\" ):\n",
    "        while ( IsInsideVoids(r) ):\n",
    "            p = rand.random()\n",
    "            if (p<p_0):\n",
    "                break\n",
    "            r = rand_pos()\n",
    "    else:\n",
    "        raise Exception(\"'VoidType' must be 'clean' or 'dirty'.\")\n",
    "        \n",
    "    positions.append(r)  \n",
    "\n",
    "positions = np.array(positions)\n",
    "\n",
    "print(\"positions.shape:\", positions.shape)\n",
    "\n"
   ]
  },
  {
   "cell_type": "code",
   "execution_count": 3,
   "metadata": {},
   "outputs": [
    {
     "name": "stdout",
     "output_type": "stream",
     "text": [
      " ... \n",
      "Data saved to '../data/Testing_Data/SphVoid_R_[20, 10, 10, 12]_BL_60_clean.cat'.\n"
     ]
    }
   ],
   "source": [
    "# Here we open and close the catalog. \n",
    "# This method is used because \"np.savetxt\" lefts a tab separator that NGL cannot recognize.\n",
    "\n",
    "print(\" ... \")\n",
    "\n",
    "filename = \"../data/Testing_Data/SphVoid_R_\" + str(R)  \n",
    "filename += \"_BL_\" + str(BL) + \"_\"+ str(VoidType) + \".cat\"\n",
    "\n",
    "\n",
    "with open( filename, \"w\") as file:\n",
    "    for v in positions:\n",
    "        file.write(str(v[0])+\" \"+str(v[1])+\" \"+str(v[2])+\"\\n\")\n",
    "\n",
    "print(\"Data saved to '\" + filename + \"'.\") "
   ]
  },
  {
   "cell_type": "code",
   "execution_count": 5,
   "metadata": {},
   "outputs": [
    {
     "data": {
      "image/png": "[encoded data removed]",
      "text/plain": [
       "<Figure size 360x360 with 1 Axes>"
      ]
     },
     "metadata": {},
     "output_type": "display_data"
    }
   ],
   "source": [
    "# Plot a slice centered at Z_c, slice tickness s_t\n",
    "\n",
    "Z_c = BL * 2 / 8\n",
    "\n",
    "s_t = 10\n",
    "\n",
    "positions_slice = positions[ np.where( abs(positions[:,2]- Z_c )< s_t )]\n",
    "\n",
    "X = positions_slice[:,0]\n",
    "Y = positions_slice[:,1]\n",
    "\n",
    "fig = plt.figure(figsize=[5,5])\n",
    "plt.scatter(X,Y, s=0.4)\n",
    "plt.show()"
   ]
  },
  {
   "cell_type": "code",
   "execution_count": null,
   "metadata": {},
   "outputs": [],
   "source": []
  }
 ],
 "metadata": {
  "kernelspec": {
   "display_name": "Python 3",
   "language": "python",
   "name": "python3"
  },
  "language_info": {
   "codemirror_mode": {
    "name": "ipython",
    "version": 3
   },
   "file_extension": ".py",
   "mimetype": "text/x-python",
   "name": "python",
   "nbconvert_exporter": "python",
   "pygments_lexer": "ipython3",
   "version": "3.6.5"
  }
 },
 "nbformat": 4,
 "nbformat_minor": 2
}
