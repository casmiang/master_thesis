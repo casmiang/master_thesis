{
 "cells": [
  {
   "cell_type": "markdown",
   "metadata": {},
   "source": [
    "# Generator of a Random Field Catalog with four Spherical Voids\n",
    "\n",
    "Spatial distribution of points: uniform\n",
    "\n",
    "Box Length: 100h\n",
    "\n",
    "\n",
    "### Abacus Cosmos 720 box Plank\n",
    "\n",
    "Number of Halos: 8'714.934\n",
    "\n",
    "Volume = ( 720 Mpc/h )**3\n",
    "\n",
    "Halo density: 0.02334891010802469 halo/ (Mpc/h)**3"
   ]
  },
  {
   "cell_type": "code",
   "execution_count": 1,
   "metadata": {},
   "outputs": [
    {
     "name": "stdout",
     "output_type": "stream",
     "text": [
      "Box Length: 100\n",
      "Number of Particles: 5000\n",
      "Void Radius: [5, 10, 15, 20]\n",
      "Void Centers: [[37.5 37.5 37.5]\n",
      " [75.  75.  25. ]\n",
      " [75.  25.  75. ]\n",
      " [25.  75.  75. ]]\n",
      "random seed: 1\n"
     ]
    }
   ],
   "source": [
    "import numpy as np\n",
    "import matplotlib.pyplot as plt\n",
    "import random as rand\n",
    "\n",
    "# Halos per (Mpc/h)**3\n",
    "D_halo = 0.02334891010802469\n",
    "\n",
    "# Cubic box size (Mpc/h)\n",
    "BL = 100\n",
    "\n",
    "N = 5000\n",
    "\n",
    "VOID_TYPE = \"MSV\"\n",
    "\n",
    "# Void radius (Mpc/h)\n",
    "R = [5, 10, 15, 20 ]\n",
    "\n",
    "\n",
    "\n",
    "# Void Center(Mpc/h)\n",
    "C = np.array([[ 3/8. , 3/8. , 3/8.],\n",
    "              [ 3/4. , 3/4. , 1/4.],\n",
    "              [ 3/4. , 1/4. , 3/4.],\n",
    "              [ 1/4. , 3/4. , 3/4.]]) * BL\n",
    "\n",
    "# Void Type \n",
    "# \"clean\" (without galaxies inside) or \"dirty\" (with sparse galaxies)\n",
    "VoidType = \"clean\"\n",
    "# If VoidType = \"dirty\", P_o = Probability to find a galaxy inside the void:\n",
    "p_0 = 0.1\n",
    "\n",
    "# Number of particles\n",
    "# N = int( D_halo * (BL)**3 ) \n",
    "\n",
    "print(\"Box Length:\", BL)\n",
    "print(\"Number of Particles:\",N)\n",
    "print(\"Void Radius:\", R)\n",
    "print(\"Void Centers:\", C)\n",
    "\n",
    "# Initialize random seed\n",
    "seed = 1\n",
    "rand.seed(1)\n",
    "print (\"random seed:\", seed)\n",
    "\n",
    "\n",
    "def IsInsideVoids(v):\n",
    "    # Position vector components\n",
    "    x = v[0]\n",
    "    y = v[1]\n",
    "    z = v[2]\n",
    "    \n",
    "    for i in range( len(C)):\n",
    "        # Void sphere center\n",
    "        x0 = C[i,0]\n",
    "        y0 = C[i,1]\n",
    "        z0 = C[i,2]\n",
    "        \n",
    "        # Distance to the void center\n",
    "        d = ( (x0 - x)**2 + (y0 - y)**2 + (z0 - z)**2)**0.5 \n",
    "    \n",
    "        if ( d < R[i] ):\n",
    "            return 1;\n",
    "    \n",
    "    return 0;\n",
    "    \n",
    "\n",
    "def rand_pos():\n",
    "    x = rand.random() * BL\n",
    "    y = rand.random() * BL\n",
    "    z = rand.random() * BL   \n",
    "    return ([x,y,z])"
   ]
  },
  {
   "cell_type": "code",
   "execution_count": 2,
   "metadata": {},
   "outputs": [
    {
     "name": "stdout",
     "output_type": "stream",
     "text": [
      "positions.shape: (5000, 3)\n"
     ]
    }
   ],
   "source": [
    "positions = []\n",
    "\n",
    "for i in range(N): \n",
    "    r = rand_pos();\n",
    "    \n",
    "    if( VoidType == \"clean\"):\n",
    "        while ( IsInsideVoids(r) ):\n",
    "            r = rand_pos()\n",
    "    elif(VoidType == \"dirty\" ):\n",
    "        while ( IsInsideVoids(r) ):\n",
    "            p = rand.random()\n",
    "            if (p<p_0):\n",
    "                break\n",
    "            r = rand_pos()\n",
    "    else:\n",
    "        raise Exception(\"'VoidType' must be 'clean' or 'dirty'.\")\n",
    "        \n",
    "    positions.append(r)  \n",
    "\n",
    "positions = np.array(positions)\n",
    "\n",
    "print(\"positions.shape:\", positions.shape)\n",
    "\n"
   ]
  },
  {
   "cell_type": "code",
   "execution_count": 3,
   "metadata": {},
   "outputs": [
    {
     "name": "stdout",
     "output_type": "stream",
     "text": [
      " ... \n",
      "Data saved to '../data/Testing_Data/MSV_R[5, 10, 15, 20]_BL_100_N5000.cat'.\n"
     ]
    }
   ],
   "source": [
    "# Here we open and close the catalog. \n",
    "# This method is used because \"np.savetxt\" lefts a tab separator that NGL cannot recognize.\n",
    "\n",
    "print(\" ... \")\n",
    "\n",
    "filename = \"../data/Testing_Data/\" + str(VOID_TYPE) +\"_R\" + str(R)  \n",
    "filename += \"_BL_\" + str(BL) + \"_N\" + str(N) + \".cat\"\n",
    "\n",
    "np.savetxt(filename, positions)\n",
    "\n",
    "print(\"Data saved to '\" + filename + \"'.\") "
   ]
  },
  {
   "cell_type": "code",
   "execution_count": 4,
   "metadata": {},
   "outputs": [
    {
     "data": {
      "image/png": "[encoded data removed]",
      "text/plain": [
       "<Figure size 360x360 with 1 Axes>"
      ]
     },
     "metadata": {},
     "output_type": "display_data"
    }
   ],
   "source": [
    "# Plot a slice centered at Z_c, slice tickness s_t\n",
    "\n",
    "Z_c = BL * 2 / 8\n",
    "\n",
    "s_t = 10\n",
    "\n",
    "positions_slice = positions[ np.where( abs(positions[:,2]- Z_c )< s_t )]\n",
    "\n",
    "X = positions_slice[:,0]\n",
    "Y = positions_slice[:,1]\n",
    "\n",
    "fig = plt.figure(figsize=[5,5])\n",
    "plt.scatter(X,Y, s=0.4)\n",
    "plt.show()"
   ]
  },
  {
   "cell_type": "code",
   "execution_count": null,
   "metadata": {},
   "outputs": [],
   "source": []
  },
  {
   "cell_type": "code",
   "execution_count": null,
   "metadata": {},
   "outputs": [],
   "source": []
  }
 ],
 "metadata": {
  "kernelspec": {
   "display_name": "Python 3",
   "language": "python",
   "name": "python3"
  },
  "language_info": {
   "codemirror_mode": {
    "name": "ipython",
    "version": 3
   },
   "file_extension": ".py",
   "mimetype": "text/x-python",
   "name": "python",
   "nbconvert_exporter": "python",
   "pygments_lexer": "ipython3",
   "version": "3.6.5"
  }
 },
 "nbformat": 4,
 "nbformat_minor": 2
}
