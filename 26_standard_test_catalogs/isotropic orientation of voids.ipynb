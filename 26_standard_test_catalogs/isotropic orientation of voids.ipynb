{
 "cells": [
  {
   "cell_type": "code",
   "execution_count": 1,
   "metadata": {},
   "outputs": [],
   "source": [
    "import numpy as np\n",
    "import matplotlib.pyplot as plt\n",
    "import matplotlib.colors as colors\n",
    "import halotools\n",
    "import scipy.stats\n",
    "from scipy.optimize import curve_fit"
   ]
  },
  {
   "cell_type": "code",
   "execution_count": 2,
   "metadata": {},
   "outputs": [],
   "source": [
    "RawVoidCats = []\n",
    "\n",
    "nrand_steps = 5\n",
    "beta_steps  = 5\n",
    "\n",
    "beta  = np.linspace(1.2, 2.0, beta_steps)\n",
    "nrand = np.linspace(1.0, 1.8, nrand_steps)\n",
    "\n",
    "CounterZero = 60\n",
    "\n",
    "\n",
    "for i in range(CounterZero,80):\n",
    "    dataset = np.loadtxt(\"volume_and_excentricity/{}.vae\".format(i), \n",
    "                         delimiter=\",\",\n",
    "                         dtype=[('ID', 'i8'),('x', 'f8'), ('y', 'f8'),('z', 'f8'),\n",
    "                               ('N', 'i8'),('R', 'f8'),('a', 'f8'),('b', 'f8'), ('c', 'f8'), \n",
    "                               ('a_x', 'f8'), ('a_y', 'f8'), ('a_z', 'f8'),\n",
    "                               ('b_x', 'f8'), ('b_y', 'f8'), ('b_z', 'f8'),\n",
    "                               ('c_x', 'f8'), ('c_y', 'f8'), ('c_z', 'f8')])\n",
    "    j = i % nrand_steps\n",
    "    k = (i-CounterZero)//nrand_steps \n",
    "    \n",
    "    RawVoidCats.append([i, beta[j], np.round(nrand[k], decimals=1), dataset])   \n",
    "    \n",
    "nrand_steps = 4\n",
    "\n",
    "beta = 1.0\n",
    "nrand = np.linspace(1.0, 1.6, nrand_steps)\n",
    "CounterZero = 50\n",
    "\n",
    "for i in range(CounterZero, 54):\n",
    "    dataset = np.loadtxt(\"volume_and_excentricity/{}.vae\".format(i), \n",
    "                         delimiter=\",\", \n",
    "                         dtype=[('ID', 'i8'),('x', 'f8'), ('y', 'f8'),('z', 'f8'),\n",
    "                               ('N', 'i8'),('R', 'f8'),('a', 'f8'),('b', 'f8'), ('c', 'f8'), \n",
    "                               ('a_x', 'f8'), ('a_y', 'f8'), ('a_z', 'f8'),\n",
    "                               ('b_x', 'f8'), ('b_y', 'f8'), ('b_z', 'f8'),\n",
    "                               ('c_x', 'f8'), ('c_y', 'f8'), ('c_z', 'f8')])\n",
    "    k = (i - CounterZero) % nrand_steps\n",
    "    RawVoidCats.append([i, beta, np.round(nrand[k], decimals=1), dataset])\n",
    "    \n",
    "nrand_steps = 4\n",
    "nrand = 1.8\n",
    "beta  = np.linspace(1.0, 1.6, nrand_steps)\n",
    "beta  = np.round(beta, decimals=1)\n",
    "CounterZero = 30\n",
    "\n",
    "for i in range(30, 34):\n",
    "    dataset = np.loadtxt(\"volume_and_excentricity/{}.vae\".format(i), \n",
    "                         delimiter=\",\", \n",
    "                         dtype=[('ID', 'i8'),('x', 'f8'), ('y', 'f8'),('z', 'f8'),\n",
    "                               ('N', 'i8'),('R', 'f8'),('a', 'f8'),('b', 'f8'), ('c', 'f8'), \n",
    "                               ('a_x', 'f8'), ('a_y', 'f8'), ('a_z', 'f8'),\n",
    "                               ('b_x', 'f8'), ('b_y', 'f8'), ('b_z', 'f8'),\n",
    "                               ('c_x', 'f8'), ('c_y', 'f8'), ('c_z', 'f8')])\n",
    "    k = (i - CounterZero) % nrand_steps\n",
    "    RawVoidCats.append([i, beta[k], nrand, dataset])\n",
    "    \n",
    "i = 36 \n",
    "dataset = np.loadtxt(\"volume_and_excentricity/{}.vae\".format(i), \n",
    "                     delimiter=\",\", \n",
    "                     dtype=[('ID', 'i8'),('x', 'f8'), ('y', 'f8'),('z', 'f8'),\n",
    "                               ('N', 'i8'),('R', 'f8'),('a', 'f8'),('b', 'f8'), ('c', 'f8'), \n",
    "                               ('a_x', 'f8'), ('a_y', 'f8'), ('a_z', 'f8'),\n",
    "                               ('b_x', 'f8'), ('b_y', 'f8'), ('b_z', 'f8'),\n",
    "                               ('c_x', 'f8'), ('c_y', 'f8'), ('c_z', 'f8')])\n",
    "beta  = 1.0\n",
    "nrand = 2.0\n",
    "RawVoidCats.append([i, beta, nrand, dataset])\n"
   ]
  },
  {
   "cell_type": "code",
   "execution_count": 3,
   "metadata": {},
   "outputs": [
    {
     "name": "stdout",
     "output_type": "stream",
     "text": [
      "287496000\n"
     ]
    }
   ],
   "source": [
    "BoxLength = 720\n",
    "Trim = 30\n",
    "R_cut = 10\n",
    "\n",
    "def TrimCatalog(ellip_cat):    \n",
    "    halfboxtrim = BoxLength/2 - Trim\n",
    "\n",
    "    index = np.where( \n",
    "            (abs(ellip_cat[\"x\"]) < halfboxtrim) & \n",
    "            (abs(ellip_cat[\"y\"]) < halfboxtrim) & \n",
    "            (abs(ellip_cat[\"z\"]) < halfboxtrim) & \n",
    "             ( ellip_cat[\"R\"]  > R_cut  ) )\n",
    "    \n",
    "    return ellip_cat[index]\n",
    "\n",
    "def ellipticity(a,b,c):\n",
    "    return (1/4.)*((a**2 - c**2) / (a**2 + b**2 + c**2))\n",
    "\n",
    "def prolatness(a,b,c):\n",
    "    return(1/4.)*( (b**2-c**2)+(b**2 - a**2)) / (a**2 + b**2 + c**2)\n",
    "\n",
    "\n",
    "## To do the prolate/oblate scatter plot.\n",
    "def density_estimation(m1, m2, xmin, xmax, ymin, ymax):\n",
    "    X, Y = np.mgrid[xmin:xmax:100j, ymin:ymax:100j]                                                     \n",
    "    positions = np.vstack([X.ravel(), Y.ravel()])                                                       \n",
    "    values = np.vstack([m1, m2])                                                                        \n",
    "    kernel = scipy.stats.gaussian_kde(values)                                                                 \n",
    "    Z = np.reshape(kernel(positions).T, X.shape)\n",
    "    return X, Y, Z\n",
    "\n",
    "Volume = (BoxLength - 2*Trim) ** 3\n",
    "print(Volume)"
   ]
  },
  {
   "cell_type": "code",
   "execution_count": 4,
   "metadata": {},
   "outputs": [],
   "source": [
    "VoidCats = []\n",
    "\n",
    "for i in range(len(RawVoidCats)):\n",
    "    j     = RawVoidCats[i][0]\n",
    "    beta  = RawVoidCats[i][1]\n",
    "    nrand = RawVoidCats[i][2]\n",
    "    #print(j, beta, nrand, len(RawVoidCats[i][-1]))\n",
    "    VoidCats.append([beta, nrand, TrimCatalog(RawVoidCats[i][3])])\n",
    "\n",
    "\n",
    "\n",
    "nan_array = np.zeros((1,1))\n",
    "    \n",
    "VoidCats.append([1.2, 2.0, nan_array])\n",
    "VoidCats.append([1.4, 2.0, nan_array])\n",
    "VoidCats.append([1.6, 2.0, nan_array])\n",
    "VoidCats.append([1.8, 1.8, nan_array])\n",
    "VoidCats.append([1.8, 2.0, nan_array])\n",
    "VoidCats.append([2.0, 1.8, nan_array])\n",
    "VoidCats.append([2.0, 2.0, nan_array])"
   ]
  },
  {
   "cell_type": "code",
   "execution_count": 5,
   "metadata": {},
   "outputs": [],
   "source": [
    "VoidCats.sort(key = lambda x: x[1])\n",
    "VoidCats.sort(key = lambda x: x[0])"
   ]
  },
  {
   "cell_type": "code",
   "execution_count": 6,
   "metadata": {},
   "outputs": [],
   "source": [
    "alpha = 0.05"
   ]
  },
  {
   "cell_type": "code",
   "execution_count": 7,
   "metadata": {},
   "outputs": [
    {
     "name": "stdout",
     "output_type": "stream",
     "text": [
      "Beta  r   D  pvalue theta_size \n",
      "0\n"
     ]
    }
   ],
   "source": [
    "alpha = 0.01\n",
    "\n",
    "N = 0\n",
    "\n",
    "print(\"Beta  r   D  pvalue theta_size \")\n",
    "\n",
    "\n",
    "for i in range(len(VoidCats)):    \n",
    "    if(VoidCats[i][2].shape != (1,1)):\n",
    "        beta   = VoidCats[i][0]\n",
    "        nrand  = VoidCats[i][1]\n",
    "        theta  = abs(VoidCats[i][2][\"a_x\"])\n",
    "        D, pvalue = scipy.stats.kstest(theta, \"uniform\")\n",
    "        if pvalue < alpha:\n",
    "            print(beta, nrand, np.round(D, decimals=3), np.round(pvalue, decimals=4), len(theta) )\n",
    "            N += 1\n",
    "for i in range(len(VoidCats)):    \n",
    "    if(VoidCats[i][2].shape != (1,1)):\n",
    "        beta   = VoidCats[i][0]\n",
    "        nrand  = VoidCats[i][1]\n",
    "        theta  = abs(VoidCats[i][2][\"a_y\"])\n",
    "        D, pvalue = scipy.stats.kstest(theta, \"uniform\")\n",
    "        if pvalue < alpha:\n",
    "            print(beta, nrand, np.round(D, decimals=3), np.round(pvalue, decimals=4), len(theta) )\n",
    "            N += 1\n",
    "for i in range(len(VoidCats)):    \n",
    "    if(VoidCats[i][2].shape != (1,1)):\n",
    "        beta   = VoidCats[i][0]\n",
    "        nrand  = VoidCats[i][1]\n",
    "        theta  = abs(VoidCats[i][2][\"a_z\"])\n",
    "        D, pvalue = scipy.stats.kstest(theta, \"uniform\")\n",
    "        if pvalue < alpha:\n",
    "            print(beta, nrand, np.round(D, decimals=3), np.round(pvalue, decimals=4), len(theta) )\n",
    "            N += 1\n",
    "print(N)            "
   ]
  },
  {
   "cell_type": "code",
   "execution_count": 8,
   "metadata": {},
   "outputs": [
    {
     "name": "stdout",
     "output_type": "stream",
     "text": [
      "Beta  r   D  pvalue theta_size \n",
      "0\n"
     ]
    }
   ],
   "source": [
    "alpha = 0.01\n",
    "\n",
    "N = 0\n",
    "\n",
    "print(\"Beta  r   D  pvalue theta_size \")\n",
    "\n",
    "\n",
    "for i in range(len(VoidCats)):    \n",
    "    if(VoidCats[i][2].shape != (1,1)):\n",
    "        beta   = VoidCats[i][0]\n",
    "        nrand  = VoidCats[i][1]\n",
    "        theta  = abs(VoidCats[i][2][\"a_x\"])\n",
    "        D, pvalue = scipy.stats.kstest(theta, \"uniform\")\n",
    "        if pvalue < alpha:\n",
    "            print(beta, nrand, np.round(D, decimals=3), np.round(pvalue, decimals=4), len(theta) )\n",
    "            N += 1\n",
    "for i in range(len(VoidCats)):    \n",
    "    if(VoidCats[i][2].shape != (1,1)):\n",
    "        beta   = VoidCats[i][0]\n",
    "        nrand  = VoidCats[i][1]\n",
    "        theta  = abs(VoidCats[i][2][\"a_y\"])\n",
    "        D, pvalue = scipy.stats.kstest(theta, \"uniform\")\n",
    "        if pvalue < alpha:\n",
    "            print(beta, nrand, np.round(D, decimals=3), np.round(pvalue, decimals=4), len(theta) )\n",
    "            N += 1\n",
    "for i in range(len(VoidCats)):    \n",
    "    if(VoidCats[i][2].shape != (1,1)):\n",
    "        beta   = VoidCats[i][0]\n",
    "        nrand  = VoidCats[i][1]\n",
    "        theta  = abs(VoidCats[i][2][\"a_z\"])\n",
    "        D, pvalue = scipy.stats.kstest(theta, \"uniform\")\n",
    "        if pvalue < alpha:\n",
    "            print(beta, nrand, np.round(D, decimals=3), np.round(pvalue, decimals=4), len(theta) )\n",
    "            N += 1\n",
    "print(N)            "
   ]
  },
  {
   "cell_type": "code",
   "execution_count": 9,
   "metadata": {},
   "outputs": [
    {
     "name": "stdout",
     "output_type": "stream",
     "text": [
      "Beta  r   D  pvalue theta_size \n",
      "0\n"
     ]
    }
   ],
   "source": [
    "alpha = 0.01\n",
    "\n",
    "\n",
    "N = 0\n",
    "\n",
    "Axis = \"a\"\n",
    "\n",
    "print(\"Beta  r   D  pvalue theta_size \")\n",
    "\n",
    "for i in range(len(VoidCats)):    \n",
    "    if(VoidCats[i][2].shape != (1,1)):\n",
    "        beta   = VoidCats[i][0]\n",
    "        nrand  = VoidCats[i][1]\n",
    "        theta  = abs(VoidCats[i][2][Axis + \"_x\"])\n",
    "        D, pvalue = scipy.stats.kstest(theta, \"uniform\")\n",
    "        if pvalue < alpha:\n",
    "            print(beta, nrand, np.round(D, decimals=3), np.round(pvalue, decimals=4), len(theta) )\n",
    "            N += 1\n",
    "for i in range(len(VoidCats)):    \n",
    "    if(VoidCats[i][2].shape != (1,1)):\n",
    "        beta   = VoidCats[i][0]\n",
    "        nrand  = VoidCats[i][1]\n",
    "        theta  = abs(VoidCats[i][2][Axis + \"_y\"])\n",
    "        D, pvalue = scipy.stats.kstest(theta, \"uniform\")\n",
    "        if pvalue < alpha:\n",
    "            print(beta, nrand, np.round(D, decimals=3), np.round(pvalue, decimals=4), len(theta) )\n",
    "            N += 1\n",
    "for i in range(len(VoidCats)):    \n",
    "    if(VoidCats[i][2].shape != (1,1)):\n",
    "        beta   = VoidCats[i][0]\n",
    "        nrand  = VoidCats[i][1]\n",
    "        theta  = abs(VoidCats[i][2][Axis + \"_z\"])\n",
    "        D, pvalue = scipy.stats.kstest(theta, \"uniform\")\n",
    "        if pvalue < alpha:\n",
    "            print(beta, nrand, np.round(D, decimals=3), np.round(pvalue, decimals=4), len(theta) )\n",
    "            N += 1\n",
    "print(N)            "
   ]
  },
  {
   "cell_type": "code",
   "execution_count": 10,
   "metadata": {},
   "outputs": [
    {
     "name": "stdout",
     "output_type": "stream",
     "text": [
      "Beta  r   D  pvalue theta_size \n",
      "0\n"
     ]
    }
   ],
   "source": [
    "alpha = 0.01\n",
    "\n",
    "N = 0\n",
    "\n",
    "Axis = \"b\"\n",
    "\n",
    "print(\"Beta  r   D  pvalue theta_size \")\n",
    "\n",
    "for i in range(len(VoidCats)):    \n",
    "    if(VoidCats[i][2].shape != (1,1)):\n",
    "        beta   = VoidCats[i][0]\n",
    "        nrand  = VoidCats[i][1]\n",
    "        theta  = abs(VoidCats[i][2][Axis + \"_x\"])\n",
    "        D, pvalue = scipy.stats.kstest(theta, \"uniform\")\n",
    "        if pvalue < alpha:\n",
    "            print(beta, nrand, np.round(D, decimals=3), np.round(pvalue, decimals=4), len(theta) )\n",
    "            N += 1\n",
    "for i in range(len(VoidCats)):    \n",
    "    if(VoidCats[i][2].shape != (1,1)):\n",
    "        beta   = VoidCats[i][0]\n",
    "        nrand  = VoidCats[i][1]\n",
    "        theta  = abs(VoidCats[i][2][Axis + \"_y\"])\n",
    "        D, pvalue = scipy.stats.kstest(theta, \"uniform\")\n",
    "        if pvalue < alpha:\n",
    "            print(beta, nrand, np.round(D, decimals=3), np.round(pvalue, decimals=4), len(theta) )\n",
    "            N += 1\n",
    "for i in range(len(VoidCats)):    \n",
    "    if(VoidCats[i][2].shape != (1,1)):\n",
    "        beta   = VoidCats[i][0]\n",
    "        nrand  = VoidCats[i][1]\n",
    "        theta  = abs(VoidCats[i][2][Axis + \"_z\"])\n",
    "        D, pvalue = scipy.stats.kstest(theta, \"uniform\")\n",
    "        if pvalue < alpha:\n",
    "            print(beta, nrand, np.round(D, decimals=3), np.round(pvalue, decimals=4), len(theta) )\n",
    "            N += 1\n",
    "print(N)    "
   ]
  },
  {
   "cell_type": "code",
   "execution_count": 11,
   "metadata": {},
   "outputs": [
    {
     "name": "stdout",
     "output_type": "stream",
     "text": [
      "Beta  r   D  pvalue theta_size \n",
      "1.4 1.4 0.024 0.0055 5264\n",
      "1\n"
     ]
    }
   ],
   "source": [
    "alpha = 0.01\n",
    "\n",
    "N = 0\n",
    "\n",
    "Axis = \"c\"\n",
    "\n",
    "print(\"Beta  r   D  pvalue theta_size \")\n",
    "\n",
    "for i in range(len(VoidCats)):    \n",
    "    if(VoidCats[i][2].shape != (1,1)):\n",
    "        beta   = VoidCats[i][0]\n",
    "        nrand  = VoidCats[i][1]\n",
    "        theta  = abs(VoidCats[i][2][Axis + \"_x\"])\n",
    "        D, pvalue = scipy.stats.kstest(theta, \"uniform\")\n",
    "        if pvalue < alpha:\n",
    "            print(beta, nrand, np.round(D, decimals=3), np.round(pvalue, decimals=4), len(theta) )\n",
    "            N += 1\n",
    "for i in range(len(VoidCats)):    \n",
    "    if(VoidCats[i][2].shape != (1,1)):\n",
    "        beta   = VoidCats[i][0]\n",
    "        nrand  = VoidCats[i][1]\n",
    "        theta  = abs(VoidCats[i][2][Axis + \"_y\"])\n",
    "        D, pvalue = scipy.stats.kstest(theta, \"uniform\")\n",
    "        if pvalue < alpha:\n",
    "            print(beta, nrand, np.round(D, decimals=3), np.round(pvalue, decimals=4), len(theta) )\n",
    "            N += 1\n",
    "for i in range(len(VoidCats)):    \n",
    "    if(VoidCats[i][2].shape != (1,1)):\n",
    "        beta   = VoidCats[i][0]\n",
    "        nrand  = VoidCats[i][1]\n",
    "        theta  = abs(VoidCats[i][2][Axis + \"_z\"])\n",
    "        D, pvalue = scipy.stats.kstest(theta, \"uniform\")\n",
    "        if pvalue < alpha:\n",
    "            print(beta, nrand, np.round(D, decimals=3), np.round(pvalue, decimals=4), len(theta) )\n",
    "            N += 1\n",
    "print(N)    "
   ]
  },
  {
   "cell_type": "code",
   "execution_count": 12,
   "metadata": {},
   "outputs": [
    {
     "name": "stdout",
     "output_type": "stream",
     "text": [
      "1.4 1.4 0.024 0.0055 14\n"
     ]
    },
    {
     "data": {
      "text/plain": [
       "<matplotlib.legend.Legend at 0x7fc1733c7cc0>"
      ]
     },
     "execution_count": 12,
     "metadata": {},
     "output_type": "execute_result"
    },
    {
     "data": {
      "image/png": "[encoded data removed]",
      "text/plain": [
       "<Figure size 432x288 with 1 Axes>"
      ]
     },
     "metadata": {
      "needs_background": "light"
     },
     "output_type": "display_data"
    }
   ],
   "source": [
    "alpha = 0.01\n",
    "\n",
    "for i in range(len(VoidCats)):    \n",
    "    if(VoidCats[i][2].shape != (1,1)):\n",
    "        beta   = VoidCats[i][0]\n",
    "        nrand  = VoidCats[i][1]\n",
    "        theta  = abs(VoidCats[i][2][Axis + \"_x\"])\n",
    "        D, pvalue = scipy.stats.kstest(theta, \"uniform\")\n",
    "        if pvalue < alpha:\n",
    "            print(beta, nrand, np.round(D, decimals=3), np.round(pvalue, decimals=4), i )\n",
    "            N += 1\n",
    "            \n",
    "            plt.hist(theta, bins=10, density=True, histtype=\"step\",\n",
    "                    label= r\"$\\beta$=\" + str(beta) + r\" $r$=\" + str(nrand) +\n",
    "                     \" pvalue= \" + str( np.round(pvalue, decimals=3)) )\n",
    "\n",
    "plt.ylim(0.85,1.15)\n",
    "plt.xlim(0,1)\n",
    "plt.legend(loc=3)"
   ]
  },
  {
   "cell_type": "code",
   "execution_count": 13,
   "metadata": {},
   "outputs": [],
   "source": [
    "def ks_critical_value(n_trials, alpha):\n",
    "    return scipy.stats.ksone.ppf(1-alpha/2, n_trials)"
   ]
  },
  {
   "cell_type": "code",
   "execution_count": 14,
   "metadata": {},
   "outputs": [
    {
     "data": {
      "text/plain": [
       "0.021774118427425774"
      ]
     },
     "execution_count": 14,
     "metadata": {},
     "output_type": "execute_result"
    }
   ],
   "source": [
    "ks_critical_value(8000, 0.001)"
   ]
  },
  {
   "cell_type": "code",
   "execution_count": null,
   "metadata": {},
   "outputs": [],
   "source": []
  },
  {
   "cell_type": "code",
   "execution_count": 15,
   "metadata": {},
   "outputs": [
    {
     "name": "stdout",
     "output_type": "stream",
     "text": [
      "1.0 1.0 0.015 0.3411 0\n",
      "1.4 1.4 0.024 0.0055 14\n"
     ]
    },
    {
     "data": {
      "image/png": "[encoded data removed]",
      "text/plain": [
       "<Figure size 432x288 with 1 Axes>"
      ]
     },
     "metadata": {
      "needs_background": "light"
     },
     "output_type": "display_data"
    }
   ],
   "source": [
    "alpha = 0.05\n",
    "\n",
    "Axis=[\"a_x\", \"c_x\"]\n",
    "I=[0, 14] \n",
    "\n",
    "for i,axis in zip(I, Axis):\n",
    "    beta   = VoidCats[i][0]\n",
    "    nrand  = VoidCats[i][1]\n",
    "    theta  = abs(VoidCats[i][2][axis])\n",
    "    D, pvalue = scipy.stats.kstest(theta, \"uniform\")\n",
    "    if pvalue > 0:\n",
    "        print(beta, nrand, np.round(D, decimals=3), np.round(pvalue, decimals=4), i )\n",
    "        N += 1\n",
    "\n",
    "        plt.hist(theta, bins=10, density=True, histtype=\"step\",\n",
    "                label= \"axis \" + axis + \", \"\n",
    "                 r\"$\\beta$=\" + str(beta) + r\" $r$=\" + str(nrand) +\n",
    "                 \" pvalue= \" + str( np.round(pvalue, decimals=3)) )\n",
    "\n",
    "plt.axhline(y=1.0, linestyle=\"dotted\", color=\"k\")\n",
    "\n",
    "plt.xlabel(r\"$|\\cos\\theta_x|$\", fontsize=15)\n",
    "plt.ylabel(r\"$P(|\\cos\\theta_x|)$\", fontsize=15)\n",
    "plt.xlim(0,1)\n",
    "plt.ylim(0.85,1.15)\n",
    "plt.legend(loc=3)\n",
    "plt.tight_layout()\n",
    "plt.savefig(\"figures/isotropic_orientation.pdf\")"
   ]
  },
  {
   "cell_type": "code",
   "execution_count": 16,
   "metadata": {},
   "outputs": [
    {
     "data": {
      "text/plain": [
       "[1.4,\n",
       " 1.0,\n",
       " array([(    0,  228.24080889, -232.9535161 ,  256.71339567, 59, 26.97737693, 49.5199121 , 21.22763756, 18.67745208, -0.84669576, -0.48875221, -0.21030351,  0.12370866, -0.56524693,  0.81559308, -0.51749633,  0.66454284, 0.53905507),\n",
       "        (    2,  291.4496748 ,  -32.35174565,  -23.26991871, 57, 27.13707904, 33.85291341, 25.7725366 , 22.90530523, -0.98231189,  0.05269082,  0.17968594,  0.18487872,  0.12061097,  0.97533218, -0.02971896, -0.9913005 , 0.128219  ),\n",
       "        (    3,   71.56027583,  159.76697512, -218.27517272,  6, 10.70305986, 13.50393011, 11.22232782,  8.09059999, -0.37390581, -0.85631329, -0.35626114,  0.86155743, -0.46290536,  0.20841645, -0.34338496, -0.22901132, 0.91084608),\n",
       "        ...,\n",
       "        (15837,  128.487501  ,  231.25074626, -310.96573665,  7, 11.35825361, 19.06144855,  9.67802172,  7.94313951,  0.3912009 ,  0.8931112 , -0.22206809,  0.79131399, -0.44962893, -0.41431387,  0.4698766 ,  0.01364563, 0.88262664),\n",
       "        (15841, -175.40269708, -114.30031504,  -98.57167305,  6, 12.99123128, 16.7629983 , 16.10219015,  8.12295958,  0.12749204, -0.98415812, -0.12320137,  0.2683077 ,  0.15380518, -0.95097579,  0.95485955,  0.08818597, 0.28366613),\n",
       "        (15843, -205.56759086, -215.37186913, -139.20865638,  6, 10.94506834, 14.5295662 , 10.35689478,  8.71311048,  0.41867549, -0.42278013,  0.80372122, -0.68931007, -0.72413716, -0.02184037, -0.59123807,  0.5448691 , 0.59460508)],\n",
       "       dtype=[('ID', '<i8'), ('x', '<f8'), ('y', '<f8'), ('z', '<f8'), ('N', '<i8'), ('R', '<f8'), ('a', '<f8'), ('b', '<f8'), ('c', '<f8'), ('a_x', '<f8'), ('a_y', '<f8'), ('a_z', '<f8'), ('b_x', '<f8'), ('b_y', '<f8'), ('b_z', '<f8'), ('c_x', '<f8'), ('c_y', '<f8'), ('c_z', '<f8')])]"
      ]
     },
     "execution_count": 16,
     "metadata": {},
     "output_type": "execute_result"
    }
   ],
   "source": [
    "VoidCats[12]"
   ]
  },
  {
   "cell_type": "code",
   "execution_count": null,
   "metadata": {},
   "outputs": [],
   "source": []
  },
  {
   "cell_type": "code",
   "execution_count": 17,
   "metadata": {},
   "outputs": [
    {
     "data": {
      "text/plain": [
       "36"
      ]
     },
     "execution_count": 17,
     "metadata": {},
     "output_type": "execute_result"
    }
   ],
   "source": [
    "len(VoidCats)"
   ]
  },
  {
   "cell_type": "code",
   "execution_count": 18,
   "metadata": {},
   "outputs": [
    {
     "name": "stdout",
     "output_type": "stream",
     "text": [
      "1.0 1.0 0.015 0.3411 0\n",
      "1.0 1.2 0.012 0.4412 1\n",
      "1.0 1.4 0.009 0.7867 2\n",
      "1.0 1.6 0.02 0.0233 3\n",
      "1.2 1.0 0.012 0.488 6\n",
      "1.2 1.2 0.012 0.4331 7\n",
      "1.2 1.4 0.018 0.0582 8\n",
      "1.2 1.6 0.015 0.1643 9\n",
      "1.4 1.0 0.011 0.5665 12\n",
      "1.4 1.2 0.012 0.4274 13\n",
      "1.4 1.4 0.022 0.0111 14\n",
      "*\n",
      "1.4 1.6 0.012 0.5229 15\n",
      "1.6 1.0 0.016 0.1519 18\n",
      "1.6 1.2 0.012 0.4402 19\n",
      "1.6 1.4 0.014 0.2841 20\n",
      "1.6 1.6 0.011 0.6328 21\n",
      "1.8 1.0 0.017 0.1394 24\n",
      "1.8 1.2 0.012 0.5223 25\n",
      "1.8 1.4 0.009 0.7981 26\n",
      "1.8 1.6 0.017 0.1595 27\n",
      "2.0 1.0 0.015 0.2708 30\n",
      "2.0 1.2 0.011 0.6135 31\n",
      "2.0 1.4 0.02 0.0674 32\n",
      "2.0 1.6 0.017 0.2006 33\n"
     ]
    },
    {
     "data": {
      "image/png": "[encoded data removed]",
      "text/plain": [
       "<Figure size 360x216 with 1 Axes>"
      ]
     },
     "metadata": {
      "needs_background": "light"
     },
     "output_type": "display_data"
    }
   ],
   "source": [
    "alpha = 1\n",
    "\n",
    "axis=\"a_c\"\n",
    "\n",
    "index = []\n",
    "for i in range(len(VoidCats)):\n",
    "    nrand  = VoidCats[i][1]    \n",
    "    if nrand <= 1.6:\n",
    "        index.append(i)\n",
    "N_bins=1000\n",
    "Y_hist = []\n",
    "X_bins = []\n",
    "\n",
    "Y_special = 0\n",
    "\n",
    "for i in index:\n",
    "    beta   = VoidCats[i][0]\n",
    "    nrand  = VoidCats[i][1]  \n",
    "    if nrand <= 1.6:\n",
    "        theta  = abs(VoidCats[i][2][\"a_x\"])\n",
    "        D, pvalue = scipy.stats.kstest(theta, \"uniform\")\n",
    "        if pvalue > 0:\n",
    "            print(beta, nrand, np.round(D, decimals=3), np.round(pvalue, decimals=4), i )\n",
    "            N += 1\n",
    "            Y, X_bins = np.histogram(theta, bins=N_bins, density=True)\n",
    "                     #label= \"axis \" + axis + \", \"r\"$\\beta$=\" + str(beta) + r\" $r$=\" + str(nrand) +\" pvalue= \" + str( np.round(pvalue, decimals=3)) )\n",
    "            Y_hist.append(np.cumsum(Y))\n",
    "            if(i==14):\n",
    "                print(\"*\")\n",
    "                Y_special = Y\n",
    "            \n",
    "Y_hist = np.array(Y_hist)/N_bins\n",
    "X = np.array(X_bins)\n",
    "X = (X[1:]+X[:-1])*0.5\n",
    "\n",
    "Y_per = []\n",
    "for i in range( Y_hist.shape[1]):\n",
    "    Y_per.append(np.percentile(Y_hist[:,i], [0,50,100]))\n",
    "    \n",
    "Y_per = np.array(Y_per).T\n",
    "Y_per\n",
    "\n",
    "fig = plt.figure(figsize=(5,3))\n",
    "\n",
    "plt.fill_between(X, Y_per[0], Y_per[2], alpha=0.5)\n",
    "plt.plot(X, Y_per[1], label= r\"$1.0 \\leq \\beta \\leq 1.6$\"+\n",
    "                            \"\\n$1.0 \\leq r \\leq 1.6$\"+\n",
    "                            \"\\np-value $\\geq 0.1$\")\n",
    "plt.plot(X, np.cumsum(Y_special)/N_bins, label=r\"$\\beta=1.4$, $r=1.4$\"+\n",
    "                                               \"\\np-value = 0.055\")\n",
    "\n",
    "plt.xlabel(r\"$|\\cos\\theta_x|$\", fontsize=15)\n",
    "plt.ylabel(r\"CDF ( $|\\cos \\theta_x|$ )\", fontsize=15)\n",
    "plt.xlim(0,1)\n",
    "plt.ylim(0,1)\n",
    "plt.legend(loc=2)\n",
    "plt.tight_layout(pad=0, rect=[0,0,1,1])\n",
    "plt.savefig(\"figures/isotropic_orientation.pdf\")"
   ]
  }
 ],
 "metadata": {
  "kernelspec": {
   "display_name": "Python 3",
   "language": "python",
   "name": "python3"
  },
  "language_info": {
   "codemirror_mode": {
    "name": "ipython",
    "version": 3
   },
   "file_extension": ".py",
   "mimetype": "text/x-python",
   "name": "python",
   "nbconvert_exporter": "python",
   "pygments_lexer": "ipython3",
   "version": "3.7.3"
  }
 },
 "nbformat": 4,
 "nbformat_minor": 2
}
