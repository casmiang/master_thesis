{
 "cells": [
  {
   "cell_type": "code",
   "execution_count": 1,
   "metadata": {},
   "outputs": [],
   "source": [
    "# ==========================================================================\n",
    "# Example code: how to compute the theoretical size function of cosmic voids\n",
    "# ==========================================================================\n",
    "\n",
    "# to ensure compatibility in Python versions 2.x and 3.x\n",
    "from __future__ import print_function\n",
    "\n",
    "# import the CosmoBolognaLib #\n",
    "import CosmoBolognaLib as cbl\n",
    "import numpy as np\n",
    "import matplotlib.pyplot as plt"
   ]
  },
  {
   "cell_type": "code",
   "execution_count": 2,
   "metadata": {},
   "outputs": [],
   "source": [
    "# set the CosmoBolognaLib and the current directories\n",
    "cbl.SetDirs(\"/home/filipo/anaconda3/lib/python3.6/site-packages/CosmoBolognaLib/\", \"./\")\n"
   ]
  },
  {
   "cell_type": "code",
   "execution_count": 11,
   "metadata": {},
   "outputs": [],
   "source": [
    "# define a cosmological model, using default parameters #\n",
    "cosm = cbl.Cosmology()\n",
    "\n",
    "# Minimum and maximum of effective void radii\n",
    "R_min = 1.\n",
    "R_max = 60.\n",
    "\n",
    "# number of radii at which the size function is computed\n",
    "n_val = 20\n",
    "\n",
    "# list of effective void radii with logarithmic binning\n",
    "RR = np.logspace(np.log10(R_min), np.log10(R_max), n_val , endpoint=True)\n",
    "\n",
    "# redshift of the sample\n",
    "zz = 0.\n",
    "\n",
    "# effective bias of the mass tracers\n",
    "b_eff = 1\n",
    "\n"
   ]
  },
  {
   "cell_type": "code",
   "execution_count": 12,
   "metadata": {},
   "outputs": [
    {
     "name": "stdout",
     "output_type": "stream",
     "text": [
      "The size function at z = 0  is :\n",
      "1.148367e-01 (h/Mpc)^3 at R = 1  Mpc/h \n",
      "7.432512e-02 (h/Mpc)^3 at R = 1.24  Mpc/h \n",
      "4.606302e-02 (h/Mpc)^3 at R = 1.54  Mpc/h \n",
      "2.729438e-02 (h/Mpc)^3 at R = 1.91  Mpc/h \n",
      "1.534532e-02 (h/Mpc)^3 at R = 2.37  Mpc/h \n",
      "8.233072e-03 (h/Mpc)^3 at R = 2.94  Mpc/h \n",
      "4.166290e-03 (h/Mpc)^3 at R = 3.64  Mpc/h \n",
      "1.968678e-03 (h/Mpc)^3 at R = 4.52  Mpc/h \n",
      "8.550244e-04 (h/Mpc)^3 at R = 5.61  Mpc/h \n",
      "3.319889e-04 (h/Mpc)^3 at R = 6.95  Mpc/h \n",
      "1.097658e-04 (h/Mpc)^3 at R = 8.63  Mpc/h \n",
      "2.911646e-05 (h/Mpc)^3 at R = 10.7  Mpc/h \n",
      "5.168636e-06 (h/Mpc)^3 at R = 13.3  Mpc/h \n",
      "6.482048e-07 (h/Mpc)^3 at R = 16.5  Mpc/h \n",
      "3.906441e-08 (h/Mpc)^3 at R = 20.4  Mpc/h \n",
      "6.698340e-10 (h/Mpc)^3 at R = 25.3  Mpc/h \n",
      "2.068166e-12 (h/Mpc)^3 at R = 31.4  Mpc/h \n",
      "3.890668e-16 (h/Mpc)^3 at R = 39  Mpc/h \n",
      "7.291932e-22 (h/Mpc)^3 at R = 48.4  Mpc/h \n",
      "5.673679e-31 (h/Mpc)^3 at R = 60  Mpc/h \n"
     ]
    }
   ],
   "source": [
    "print('The size function at z = %.2g'%zz ,' is :')\n",
    "\n",
    "VSF = []\n",
    "# compute the  Sheth & van de Weygaert size function \n",
    "for i in range(n_val):\n",
    "\n",
    "    print('%.6e' %cosm.size_function(RR[i], zz, \"SvdW\", b_eff), '(h/Mpc)^3 at R = %.3g' %RR[i], ' Mpc/h ')\n",
    "    \n",
    "    VSF.append(cosm.size_function(RR[i], zz, \"SvdW\", b_eff))"
   ]
  },
  {
   "cell_type": "code",
   "execution_count": null,
   "metadata": {},
   "outputs": [],
   "source": []
  },
  {
   "cell_type": "code",
   "execution_count": 13,
   "metadata": {},
   "outputs": [
    {
     "data": {
      "text/plain": [
       "[<matplotlib.lines.Line2D at 0x7f20be1b15c0>]"
      ]
     },
     "execution_count": 13,
     "metadata": {},
     "output_type": "execute_result"
    },
    {
     "data": {
      "image/png": "[encoded data removed]",
      "text/plain": [
       "<Figure size 432x288 with 1 Axes>"
      ]
     },
     "metadata": {},
     "output_type": "display_data"
    }
   ],
   "source": [
    "plt.plot(RR, VSF)"
   ]
  },
  {
   "cell_type": "code",
   "execution_count": 14,
   "metadata": {},
   "outputs": [
    {
     "data": {
      "image/png": "[encoded data removed]",
      "text/plain": [
       "<Figure size 432x288 with 1 Axes>"
      ]
     },
     "metadata": {},
     "output_type": "display_data"
    }
   ],
   "source": [
    "plt.plot(RR, VSF)\n",
    "plt.yscale(\"log\")"
   ]
  },
  {
   "cell_type": "code",
   "execution_count": null,
   "metadata": {},
   "outputs": [],
   "source": []
  }
 ],
 "metadata": {
  "kernelspec": {
   "display_name": "Python 3",
   "language": "python",
   "name": "python3"
  },
  "language_info": {
   "codemirror_mode": {
    "name": "ipython",
    "version": 3
   },
   "file_extension": ".py",
   "mimetype": "text/x-python",
   "name": "python",
   "nbconvert_exporter": "python",
   "pygments_lexer": "ipython3",
   "version": "3.6.5"
  }
 },
 "nbformat": 4,
 "nbformat_minor": 2
}
