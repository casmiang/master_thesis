{
 "cells": [
  {
   "cell_type": "markdown",
   "metadata": {},
   "source": [
    "\n",
    "![Raconi 2019, fig 1](./figures/raconi_et_al_2019_cosmic_voids_uncovered_fig_1.png)\n",
    "\n",
    "# Graph from ../figures/raconi_et_al_2019_cosmic_voids_uncovered_fig_1.png\n",
    "## z = 0\n",
    "\n",
    "### L_box = 64 Mpc/h\n",
    "0.5179\t0.02215\n",
    "0.6177\t0.02848\n",
    "0.7419\t0.02511\n",
    "0.8849\t0.02358\n",
    "1.062\t0.01953\n",
    "1.250\t0.01340\n",
    "1.512\t0.009792\n",
    "1.816\t0.005226\n",
    "2.166\t0.003367\n",
    "2.583\t0.001913\n",
    "3.103\t7.459E-4\n",
    "3.701\t3.511E-4\n",
    "5.265\t2.262E-4\n",
    "6.324\t4.420E-5\n",
    "7.543\t3.898E-5\n",
    "9.060\t3.032E-5\n",
    "10.88\t1.953E-5\n",
    "\n",
    "### L_box = 128 Mpc/h\n",
    "1.055\t0.006718\n",
    "1.267\t0.006309\n",
    "1.512\t0.006309\n",
    "1.816\t0.004328\n",
    "2.181\t0.002969\n",
    "2.583\t0.001913\n",
    "3.125\t0.001157\n",
    "3.701\t5.449E-4\n",
    "4.445\t3.511E-4\n",
    "5.340\t1.652E-4\n",
    "6.324\t1.133E-4\n",
    "7.650\t6.443E-5\n",
    "9.060\t2.511E-5\n",
    "10.88\t7.617E-6\n",
    "12.97\t8.111E-6\n",
    "\n",
    "### L_box = 256 Mpc/h\n",
    "2.166\t0.001913\n",
    "2.601\t0.001687\n",
    "3.103\t0.001232\n",
    "3.727\t7.943E-4\n",
    "4.445\t5.449E-4\n",
    "5.302\t3.096E-4\n",
    "6.324\t1.552E-4\n",
    "7.543\t7.305E-5\n",
    "9.124\t3.229E-5\n",
    "10.88\t1.110E-5\n",
    "12.97\t5.925E-6\n",
    "15.59\t1.796E-6\n",
    "\n",
    "### Graph from ../images/raconi_et_al_2019_cosmic_voids_uncovered_fig_1.png\n",
    "4.414\t2.731E-4\n",
    "5.302\t1.552E-4\n",
    "6.324\t1.064E-4\n",
    "7.596\t6.860E-5\n",
    "9.060\t3.898E-5\n",
    "10.88\t1.519E-5\n",
    "13.16\t4.609E-6\n",
    "15.70\t1.584E-6\n",
    "18.59\t4.239E-7\n",
    "22.33\t6.860E-8\n",
    "26.45\t3.438E-8"
   ]
  },
  {
   "cell_type": "code",
   "execution_count": 1,
   "metadata": {},
   "outputs": [
    {
     "name": "stdout",
     "output_type": "stream",
     "text": [
      "Populating the interactive namespace from numpy and matplotlib\n"
     ]
    }
   ],
   "source": [
    "%pylab inline"
   ]
  },
  {
   "cell_type": "code",
   "execution_count": 2,
   "metadata": {},
   "outputs": [],
   "source": [
    "rac_64  = np.loadtxt(\"raconi_2019_z0_b64.dat\" , delimiter=\"\\t\")\n",
    "rac_128 = np.loadtxt(\"raconi_2019_z0_b128.dat\", delimiter=\"\\t\")\n",
    "rac_256 = np.loadtxt(\"raconi_2019_z0_b256.dat\", delimiter=\"\\t\")\n",
    "rac_500 = np.loadtxt(\"raconi_2019_z0_b500.dat\", delimiter=\"\\t\")"
   ]
  },
  {
   "cell_type": "code",
   "execution_count": 3,
   "metadata": {},
   "outputs": [
    {
     "data": {
      "text/plain": [
       "array([[5.179e-01, 2.215e-02],\n",
       "       [6.177e-01, 2.848e-02],\n",
       "       [7.419e-01, 2.511e-02],\n",
       "       [8.849e-01, 2.358e-02],\n",
       "       [1.062e+00, 1.953e-02],\n",
       "       [1.250e+00, 1.340e-02],\n",
       "       [1.512e+00, 9.792e-03],\n",
       "       [1.816e+00, 5.226e-03],\n",
       "       [2.166e+00, 3.367e-03],\n",
       "       [2.583e+00, 1.913e-03],\n",
       "       [3.103e+00, 7.459e-04],\n",
       "       [3.701e+00, 3.511e-04],\n",
       "       [5.265e+00, 2.262e-04],\n",
       "       [6.324e+00, 4.420e-05],\n",
       "       [7.543e+00, 3.898e-05],\n",
       "       [9.060e+00, 3.032e-05],\n",
       "       [1.088e+01, 1.953e-05]])"
      ]
     },
     "execution_count": 3,
     "metadata": {},
     "output_type": "execute_result"
    }
   ],
   "source": [
    "rac_64"
   ]
  },
  {
   "cell_type": "code",
   "execution_count": 4,
   "metadata": {},
   "outputs": [
    {
     "data": {
      "text/plain": [
       "array([[1.055e+00, 6.718e-03],\n",
       "       [1.267e+00, 6.309e-03],\n",
       "       [1.512e+00, 6.309e-03],\n",
       "       [1.816e+00, 4.328e-03],\n",
       "       [2.181e+00, 2.969e-03],\n",
       "       [2.583e+00, 1.913e-03],\n",
       "       [3.125e+00, 1.157e-03],\n",
       "       [3.701e+00, 5.449e-04],\n",
       "       [4.445e+00, 3.511e-04],\n",
       "       [5.340e+00, 1.652e-04],\n",
       "       [6.324e+00, 1.133e-04],\n",
       "       [7.650e+00, 6.443e-05],\n",
       "       [9.060e+00, 2.511e-05],\n",
       "       [1.088e+01, 7.617e-06],\n",
       "       [1.297e+01, 8.111e-06]])"
      ]
     },
     "execution_count": 4,
     "metadata": {},
     "output_type": "execute_result"
    }
   ],
   "source": [
    "rac_128"
   ]
  },
  {
   "cell_type": "code",
   "execution_count": 5,
   "metadata": {},
   "outputs": [
    {
     "data": {
      "text/plain": [
       "array([[2.166e+00, 1.913e-03],\n",
       "       [2.601e+00, 1.687e-03],\n",
       "       [3.103e+00, 1.232e-03],\n",
       "       [3.727e+00, 7.943e-04],\n",
       "       [4.445e+00, 5.449e-04],\n",
       "       [5.302e+00, 3.096e-04],\n",
       "       [6.324e+00, 1.552e-04],\n",
       "       [7.543e+00, 7.305e-05],\n",
       "       [9.124e+00, 3.229e-05],\n",
       "       [1.088e+01, 1.110e-05],\n",
       "       [1.297e+01, 5.925e-06],\n",
       "       [1.559e+01, 1.796e-06]])"
      ]
     },
     "execution_count": 5,
     "metadata": {},
     "output_type": "execute_result"
    }
   ],
   "source": [
    "\n",
    "rac_256"
   ]
  },
  {
   "cell_type": "code",
   "execution_count": 6,
   "metadata": {},
   "outputs": [
    {
     "data": {
      "text/plain": [
       "array([[4.414e+00, 2.731e-04],\n",
       "       [5.302e+00, 1.552e-04],\n",
       "       [6.324e+00, 1.064e-04],\n",
       "       [7.596e+00, 6.860e-05],\n",
       "       [9.060e+00, 3.898e-05],\n",
       "       [1.088e+01, 1.519e-05],\n",
       "       [1.316e+01, 4.609e-06],\n",
       "       [1.570e+01, 1.584e-06],\n",
       "       [1.859e+01, 4.239e-07],\n",
       "       [2.233e+01, 6.860e-08],\n",
       "       [2.645e+01, 3.438e-08]])"
      ]
     },
     "execution_count": 6,
     "metadata": {},
     "output_type": "execute_result"
    }
   ],
   "source": [
    "\n",
    "rac_500"
   ]
  },
  {
   "cell_type": "code",
   "execution_count": 28,
   "metadata": {},
   "outputs": [
    {
     "data": {
      "text/plain": [
       "Text(0,0.5,'$ dn / d \\\\ln r (\\\\mathrm{ [h/Mpc]}^3)$')"
      ]
     },
     "execution_count": 28,
     "metadata": {},
     "output_type": "execute_result"
    },
    {
     "data": {
      "image/png": "[encoded data removed]",
      "text/plain": [
       "<Figure size 432x288 with 1 Axes>"
      ]
     },
     "metadata": {},
     "output_type": "display_data"
    }
   ],
   "source": [
    "scatter(rac_64[:,0], rac_64[:,1],   label=\"BZ = 64 Mpc/h\")\n",
    "scatter(rac_128[:,0], rac_128[:,1], label=\"BZ =128 Mpc/h\")\n",
    "scatter(rac_256[:,0], rac_256[:,1], label=\"BZ =256 Mpc/h\")\n",
    "scatter(rac_500[:,0], rac_500[:,1], label=\"BZ =500 Mpc/h\")\n",
    "\n",
    "xscale(\"log\")\n",
    "yscale(\"log\")\n",
    "ylim(0.00000001, 0.1)\n",
    "\n",
    "legend(loc=1)\n",
    "xlabel(r\"$r_{eff} \\mathrm{ [Mpc/h]}$\")\n",
    "ylabel(r\"$ dn / d \\ln r (\\mathrm{ [h/Mpc]}^3)$\")"
   ]
  },
  {
   "cell_type": "markdown",
   "metadata": {},
   "source": [
    "# Graph from ../images/cautun_et_al_2018_The_Santiago_fig_4a.png, page unknown\n",
    "# SVF\n",
    "15.05\t5476\n",
    "16.84\t26110\n",
    "18.78\t30730\n",
    "21.29\t25690\n",
    "23.72\t18250\n",
    "26.59\t16830\n",
    "29.60\t11960\n",
    "32.11\t8498\n",
    "34.76\t5566\n",
    "37.56\t3828\n",
    "40.43\t2274\n",
    "42.36\t1564\n",
    "47.59\t405.2\n",
    "52.90\t40.20\n",
    "\n",
    "# Graph from ../images/cautun_et_al_2018_The_Santiago_fig_4b.png, page unknown\n",
    "# WVF\n",
    "4.813\t40.87\n",
    "4.928\t95.69\n",
    "6.876\t1076\n",
    "8.366\t1824\n",
    "9.742\t3232\n",
    "11.34\t4664\n",
    "14.32\t6829\n",
    "17.19\t9024\n",
    "21.43\t11240\n",
    "26.47\t13600\n",
    "33.35\t13400\n",
    "41.71\t9854\n",
    "47.79\t6535\n",
    "53.29\t3798\n",
    "60.05\t1380\n",
    "66.70\t524.4\n",
    "71.63\t190.6\n",
    "75.41\t86.35\n",
    "79.65\t39.69\n",
    "\n",
    "# Graph from ../images/cautun_et_al_2018_The_Santiago_fig_4c.png, page unknown\n",
    "# ZOBOV\n",
    "11.78\t39.91\n",
    "12.85\t100.0\n",
    "14.18\t289.4\n",
    "17.21\t826.7\n",
    "21.15\t2126\n",
    "28.09\t4551\n",
    "35.27\t6485\n",
    "42.06\t7492\n",
    "47.53\t6835\n",
    "58.73\t4097\n",
    "69.40\t1511\n",
    "76.29\t619.4\n",
    "84.47\t178.1\n",
    "92.39\t41.51\n",
    "\n",
    "![SVF](./figures/cautun_et_al_2018_The_Santiago_fig_4a_SVF.png)\n",
    "![WVF](./figures/cautun_et_al_2018_The_Santiago_fig_4b_WVF.png)\n",
    "![ZOBOV](./figures/cautun_et_al_2018_The_Santiago_fig_4c_ZOBOV.png)"
   ]
  },
  {
   "cell_type": "code",
   "execution_count": null,
   "metadata": {},
   "outputs": [],
   "source": [
    "\"figures/cautun_et_al_2018_The_Santiago_fig_4a_SVF.png\""
   ]
  },
  {
   "cell_type": "code",
   "execution_count": 19,
   "metadata": {},
   "outputs": [],
   "source": [
    "cau_SVF = np.loadtxt(\"cautun_2018_SVF.dat\")\n",
    "cau_WVF = np.loadtxt(\"cautun_2018_WVF.dat\")\n",
    "cau_ZOB = np.loadtxt(\"cautun_2018_ZOBOV.dat\")"
   ]
  },
  {
   "cell_type": "code",
   "execution_count": 27,
   "metadata": {},
   "outputs": [
    {
     "data": {
      "text/plain": [
       "Text(0,0.5,'$ dn / d \\\\ln R_{eff} (\\\\mathrm{ [h/Gpc]}^3)$')"
      ]
     },
     "execution_count": 27,
     "metadata": {},
     "output_type": "execute_result"
    },
    {
     "data": {
      "image/png": "[encoded data removed]",
      "text/plain": [
       "<Figure size 432x288 with 1 Axes>"
      ]
     },
     "metadata": {},
     "output_type": "display_data"
    }
   ],
   "source": [
    "scatter(cau_SVF[:,0], cau_SVF[:,1], label=\"SVF\")\n",
    "scatter(cau_WVF[:,0], cau_WVF[:,1], label=\"WVF\")\n",
    "scatter(cau_ZOB[:,0], cau_ZOB[:,1], label=\"ZOBOV\")\n",
    "\n",
    "xscale(\"log\")\n",
    "yscale(\"log\")\n",
    "ylim(10, 50000)\n",
    "\n",
    "legend(loc=1)\n",
    "xlabel(r\"$r_{eff} \\mathrm{ [Mpc/h]}$\")\n",
    "ylabel(r\"$ dn / d \\ln R_{eff} (\\mathrm{ [h/Gpc]}^3)$\")"
   ]
  },
  {
   "cell_type": "code",
   "execution_count": null,
   "metadata": {},
   "outputs": [],
   "source": []
  }
 ],
 "metadata": {
  "kernelspec": {
   "display_name": "Python 3",
   "language": "python",
   "name": "python3"
  },
  "language_info": {
   "codemirror_mode": {
    "name": "ipython",
    "version": 3
   },
   "file_extension": ".py",
   "mimetype": "text/x-python",
   "name": "python",
   "nbconvert_exporter": "python",
   "pygments_lexer": "ipython3",
   "version": "3.6.5"
  }
 },
 "nbformat": 4,
 "nbformat_minor": 2
}
