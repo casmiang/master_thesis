{
 "cells": [
  {
   "cell_type": "markdown",
   "metadata": {},
   "source": [
    "# Counting particles and Voids\n",
    "\n",
    "In this notebook is explored how the ratio $N_{\\textbf{RP}} : N_{\\textbf{OP}}$ affects the void catalog.\n",
    "\n",
    "All the calculations up to the date where performed on my laptop, the old"
   ]
  },
  {
   "cell_type": "code",
   "execution_count": 1,
   "metadata": {},
   "outputs": [
    {
     "name": "stdout",
     "output_type": "stream",
     "text": [
      "Populating the interactive namespace from numpy and matplotlib\n"
     ]
    }
   ],
   "source": [
    "%pylab inline\n",
    "\n",
    "matplotlib.rcParams['text.usetex'] = True\n",
    "matplotlib.rcParams['text.latex.unicode'] = True"
   ]
  },
  {
   "cell_type": "code",
   "execution_count": 2,
   "metadata": {},
   "outputs": [],
   "source": [
    "! cp ../12_abacus_3N_random_particles/void_masterlist_N30000.cat ./\n",
    "! cp ../11_abacus_2N_random_particles/void_masterlist_N20000.cat ./\n",
    "! cp ../10_abacus_N_random_particles/void_masterlist_N10000.cat ./\n"
   ]
  },
  {
   "cell_type": "code",
   "execution_count": 3,
   "metadata": {},
   "outputs": [
    {
     "name": "stdout",
     "output_type": "stream",
     "text": [
      "total 2880\r\n",
      "-rw-rw-r-- 1 filipo filipo  278804 mar  1 01:56 void_masterlist_N10000.cat\r\n",
      "-rw-rw-r-- 1 filipo filipo  910622 mar  1 01:56 void_masterlist_N20000.cat\r\n",
      "-rw-rw-r-- 1 filipo filipo 1559595 mar  1 01:56 void_masterlist_N30000.cat\r\n",
      "-rw-rw-r-- 1 filipo filipo   55299 mar  1 01:56 counting_voids.ipynb\r\n",
      "-rw-rw-r-- 1 filipo filipo   11854 mar  1 01:54 volume_function.pdf\r\n",
      "-rw-rw-r-- 1 filipo filipo  117913 feb 20 15:48 ol_reliable.jpg\r\n"
     ]
    }
   ],
   "source": [
    "! ls -lt"
   ]
  },
  {
   "cell_type": "code",
   "execution_count": 4,
   "metadata": {},
   "outputs": [],
   "source": [
    "cat_1N = np.loadtxt(\"void_masterlist_N10000.cat\", delimiter=\",\")\n",
    "cat_2N = np.loadtxt(\"void_masterlist_N20000.cat\", delimiter=\",\")\n",
    "cat_3N = np.loadtxt(\"void_masterlist_N30000.cat\", delimiter=\",\")"
   ]
  },
  {
   "cell_type": "markdown",
   "metadata": {},
   "source": [
    "# How many particles have each halo?"
   ]
  },
  {
   "cell_type": "code",
   "execution_count": 5,
   "metadata": {},
   "outputs": [
    {
     "name": "stdout",
     "output_type": "stream",
     "text": [
      "143 165 163\n"
     ]
    }
   ],
   "source": [
    "n_halos_cat1N = cat_1N[-1,0].astype(int)\n",
    "n_halos_cat2N = cat_2N[-1,0].astype(int)\n",
    "n_halos_cat3N = cat_3N[-1,0].astype(int)\n",
    "\n",
    "N1 = 10000\n",
    "N2 = 2*N1\n",
    "N3 = 3*N1\n",
    "\n",
    "\n",
    "print( n_halos_cat1N, n_halos_cat2N, n_halos_cat3N)\n"
   ]
  },
  {
   "cell_type": "code",
   "execution_count": 6,
   "metadata": {},
   "outputs": [
    {
     "data": {
      "text/plain": [
       "10.969613104865235"
      ]
     },
     "execution_count": 6,
     "metadata": {},
     "output_type": "execute_result"
    }
   ],
   "source": [
    "2 * 165 ** (1/3)"
   ]
  },
  {
   "cell_type": "code",
   "execution_count": 7,
   "metadata": {},
   "outputs": [
    {
     "data": {
      "text/plain": [
       "array([1.00000000e-04, 2.51188643e-04, 6.30957344e-04, 1.58489319e-03,\n",
       "       3.98107171e-03, 1.00000000e-02, 2.51188643e-02, 6.30957344e-02,\n",
       "       1.58489319e-01, 3.98107171e-01, 1.00000000e+00])"
      ]
     },
     "execution_count": 7,
     "metadata": {},
     "output_type": "execute_result"
    }
   ],
   "source": [
    "np.logspace(-4, 0, 11 )  "
   ]
  },
  {
   "cell_type": "code",
   "execution_count": 9,
   "metadata": {
    "scrolled": true
   },
   "outputs": [
    {
     "data": {
      "image/png": "[encoded data removed]",
      "text/plain": [
       "<Figure size 504x288 with 1 Axes>"
      ]
     },
     "metadata": {},
     "output_type": "display_data"
    }
   ],
   "source": [
    "catalogs = [cat_1N, cat_2N, cat_3N]\n",
    "n_halos_per_catalog = [n_halos_cat1N, n_halos_cat2N, n_halos_cat3N]\n",
    "label_cat = [\"1:1\", \"2:1\", \"3:1\"]\n",
    "N = [ N1, N2, N3]\n",
    "\n",
    "fig = figure(figsize=(7,4))\n",
    "\n",
    "\n",
    "hists = []\n",
    "\n",
    "\n",
    "bins = np.logspace(-4, 0, 11 )  \n",
    "for j in range(len(catalogs)):\n",
    "    \n",
    "    \n",
    "    aux = [] # Counting particles per halo\n",
    "    \n",
    "    for i in range(n_halos_per_catalog[j] ):\n",
    "        \n",
    "        index = np.where( catalogs[j][:,0] == i)[0]\n",
    "        aux.append(index.shape[0])\n",
    "    \n",
    "    aux = np.array(aux)/N[j]\n",
    "        \n",
    "\n",
    "    hists.append(hist(aux, alpha=0.5, label=label_cat[j], bins=bins, histtype=\"step\"))\n",
    "\n",
    "\n",
    "    plt.ylabel(\"Number of Halos\")\n",
    "    plt.xlabel(\"Volume Fraction\")\n",
    "    plt.yscale('log')\n",
    "    plt.xscale('log')\n",
    "\n",
    "    plt.legend(loc=1)\n",
    "    \n",
    "    plt.savefig(\"volume_function.pdf\", format=\"pdf\")\n",
    "    "
   ]
  },
  {
   "cell_type": "code",
   "execution_count": 16,
   "metadata": {},
   "outputs": [
    {
     "name": "stdout",
     "output_type": "stream",
     "text": [
      "4188790.2047863905\n"
     ]
    }
   ],
   "source": [
    "# About the sample\n",
    "Radius = 100 # Mpc/h\n",
    "Volume = 4 * pi * Radius**3 /3\n",
    "print(Volume)"
   ]
  },
  {
   "cell_type": "code",
   "execution_count": 30,
   "metadata": {},
   "outputs": [
    {
     "data": {
      "image/png": "[encoded data removed]",
      "text/plain": [
       "<Figure size 504x288 with 1 Axes>"
      ]
     },
     "metadata": {},
     "output_type": "display_data"
    }
   ],
   "source": [
    "catalogs = [cat_1N, cat_2N, cat_3N]\n",
    "n_halos_per_catalog = [n_halos_cat1N, n_halos_cat2N, n_halos_cat3N]\n",
    "label_cat = [\"1:1\", \"2:1\", \"3:1\"]\n",
    "N = [ N1, N2, N3]\n",
    "\n",
    "fig = figure(figsize=(7,4))\n",
    "\n",
    "\n",
    "hists = []\n",
    "\n",
    "\n",
    "bins = np.logspace( 0, 4.5, 13 )  \n",
    "for j in range(len(catalogs)):\n",
    "    \n",
    "    \n",
    "    aux = [] # Counting particles per halo\n",
    "    \n",
    "    for i in range(n_halos_per_catalog[j] ):\n",
    "        \n",
    "        index = np.where( catalogs[j][:,0] == i)[0]\n",
    "        aux.append(index.shape[0])\n",
    "    \n",
    "    aux = np.array(aux) # Raw value of particles per halo.\n",
    "                \n",
    "    hists.append( hist(aux, alpha=0.5, label=label_cat[j], bins=bins, histtype=\"step\" ))\n",
    "\n",
    "\n",
    "    plt.ylabel(\"Number of Halos\")\n",
    "    plt.xlabel(\"Particles per halo\")\n",
    "    plt.yscale('log')\n",
    "    plt.xscale('log')\n",
    "\n",
    "    plt.legend(loc=1)\n",
    "    \n",
    "    plt.savefig(\"Particle_density_function02.pdf\", format=\"pdf\")"
   ]
  },
  {
   "cell_type": "code",
   "execution_count": null,
   "metadata": {},
   "outputs": [],
   "source": []
  },
  {
   "cell_type": "code",
   "execution_count": 108,
   "metadata": {},
   "outputs": [],
   "source": [
    "histograms = [\n",
    "hists[0][0],\n",
    "hists[1][0],\n",
    "hists[2][0]\n",
    "]"
   ]
  },
  {
   "cell_type": "code",
   "execution_count": 109,
   "metadata": {},
   "outputs": [],
   "source": [
    "histograms = np.array(histograms)"
   ]
  },
  {
   "cell_type": "code",
   "execution_count": 110,
   "metadata": {},
   "outputs": [],
   "source": [
    "center_bins = []\n",
    "for i in range( len(bins) -1):\n",
    "    center_bins.append((log10(bins[i+1]) + log10(bins[i]))/2 )"
   ]
  },
  {
   "cell_type": "code",
   "execution_count": 111,
   "metadata": {},
   "outputs": [],
   "source": [
    "for i in range(3):\n",
    "    histograms[i, histograms[i,:] == 0 ] = 0.00000001"
   ]
  },
  {
   "cell_type": "code",
   "execution_count": 112,
   "metadata": {},
   "outputs": [
    {
     "data": {
      "text/plain": [
       "array([[1.0e-08, 2.5e+01, 5.2e+01, 2.6e+01, 2.7e+01, 1.0e+01, 3.0e+00,\n",
       "        1.0e-08, 1.0e-08, 1.0e-08, 1.0e-08, 1.0e-08],\n",
       "       [1.0e-08, 1.7e+01, 5.1e+01, 4.2e+01, 3.0e+01, 1.4e+01, 3.0e+00,\n",
       "        4.0e+00, 3.0e+00, 1.0e+00, 1.0e-08, 1.0e-08],\n",
       "       [1.0e-08, 1.7e+01, 4.2e+01, 6.1e+01, 2.0e+01, 1.5e+01, 7.0e+00,\n",
       "        1.0e-08, 1.0e-08, 1.0e-08, 1.0e-08, 1.0e+00]])"
      ]
     },
     "execution_count": 112,
     "metadata": {},
     "output_type": "execute_result"
    }
   ],
   "source": [
    "histograms"
   ]
  },
  {
   "cell_type": "code",
   "execution_count": 113,
   "metadata": {},
   "outputs": [
    {
     "name": "stdout",
     "output_type": "stream",
     "text": [
      "[[2.38732415e-15 5.96831037e-06 1.24140856e-05 6.20704278e-06\n",
      "  6.44577520e-06 2.38732415e-06 7.16197244e-07 2.38732415e-15\n",
      "  2.38732415e-15 2.38732415e-15 2.38732415e-15 2.38732415e-15]\n",
      " [2.38732415e-15 4.05845105e-06 1.21753531e-05 1.00267614e-05\n",
      "  7.16197244e-06 3.34225380e-06 7.16197244e-07 9.54929659e-07\n",
      "  7.16197244e-07 2.38732415e-07 2.38732415e-15 2.38732415e-15]\n",
      " [2.38732415e-15 4.05845105e-06 1.00267614e-05 1.45626773e-05\n",
      "  4.77464829e-06 3.58098622e-06 1.67112690e-06 2.38732415e-15\n",
      "  2.38732415e-15 2.38732415e-15 2.38732415e-15 2.38732415e-07]]\n"
     ]
    }
   ],
   "source": [
    "histograms = histograms/Volume\n",
    "print(histograms)"
   ]
  },
  {
   "cell_type": "code",
   "execution_count": 114,
   "metadata": {},
   "outputs": [
    {
     "data": {
      "text/plain": [
       "12"
      ]
     },
     "execution_count": 114,
     "metadata": {},
     "output_type": "execute_result"
    }
   ],
   "source": [
    "len(center_bins)"
   ]
  },
  {
   "cell_type": "code",
   "execution_count": 115,
   "metadata": {},
   "outputs": [],
   "source": [
    "hist_steps = []\n",
    "\n",
    "for i in range(3):\n",
    "    aux = []\n",
    "    for j in range(len(center_bins)):\n",
    "        aux.append(histograms[i,j])\n",
    "        aux.append(histograms[i,j])\n",
    "    hist_steps.append(aux)"
   ]
  },
  {
   "cell_type": "code",
   "execution_count": 116,
   "metadata": {},
   "outputs": [],
   "source": [
    "bins_steps = []\n",
    "for i in range(len(bins)):\n",
    "    if(i==0):\n",
    "        bins_steps.append(bins[i])\n",
    "    elif (i == len(bins)-1):\n",
    "        bins_steps.append(bins[i])\n",
    "    else:\n",
    "        bins_steps.append(bins[i])\n",
    "        bins_steps.append(bins[i])"
   ]
  },
  {
   "cell_type": "code",
   "execution_count": 117,
   "metadata": {},
   "outputs": [
    {
     "data": {
      "text/plain": [
       "24"
      ]
     },
     "execution_count": 117,
     "metadata": {},
     "output_type": "execute_result"
    }
   ],
   "source": [
    "len(bins_steps)"
   ]
  },
  {
   "cell_type": "code",
   "execution_count": 118,
   "metadata": {},
   "outputs": [
    {
     "data": {
      "text/plain": [
       "24"
      ]
     },
     "execution_count": 118,
     "metadata": {},
     "output_type": "execute_result"
    }
   ],
   "source": [
    "len(hist_steps[0])"
   ]
  },
  {
   "cell_type": "code",
   "execution_count": null,
   "metadata": {},
   "outputs": [],
   "source": []
  },
  {
   "cell_type": "code",
   "execution_count": null,
   "metadata": {},
   "outputs": [],
   "source": []
  },
  {
   "cell_type": "code",
   "execution_count": 127,
   "metadata": {},
   "outputs": [
    {
     "data": {
      "image/png": "[encoded data removed]",
      "text/plain": [
       "<Figure size 432x288 with 1 Axes>"
      ]
     },
     "metadata": {},
     "output_type": "display_data"
    }
   ],
   "source": [
    "for i in range(3):\n",
    "    plot( 10**np.array(center_bins), histograms[i],  marker=\".\", label=label_cat[i])\n",
    "\n",
    "plt.yscale(\"log\")\n",
    "\n",
    "plt.xlabel(\"Particles per Void\")\n",
    "plt.ylabel(r\"Voids per $\\left( \\mathrm{Mpc/h} \\right) ^{3}$\")\n",
    "\n",
    "plt.xscale(\"log\")\n",
    "plt.ylim(0.0000001,0.00002)\n",
    "plt.legend(loc=1)\n",
    "\n",
    "plt.tight_layout()\n",
    "\n",
    "plt.savefig(\"Particle_density_function_log.pdf\", format=\"pdf\")"
   ]
  },
  {
   "cell_type": "code",
   "execution_count": null,
   "metadata": {},
   "outputs": [],
   "source": []
  },
  {
   "cell_type": "code",
   "execution_count": 122,
   "metadata": {},
   "outputs": [
    {
     "data": {
      "image/png": "[encoded data removed]",
      "text/plain": [
       "<Figure size 432x288 with 1 Axes>"
      ]
     },
     "metadata": {},
     "output_type": "display_data"
    }
   ],
   "source": [
    "\n",
    "\n",
    "for i in range(3):\n",
    "    plot( bins_steps, hist_steps[i],  marker=\"\", alpha=0.7, label=label_cat[i])\n",
    "\n",
    "plt.yscale(\"log\")\n",
    "\n",
    "plt.xlabel(\"Particles per Void\")\n",
    "plt.ylabel(r\"Voids per $\\left( \\mathrm{Mpc/h} \\right) ^{3}$\")\n",
    "\n",
    "plt.xscale(\"log\")\n",
    "plt.ylim(0.0000001,0.00002)\n",
    "plt.legend(loc=1)\n",
    "\n",
    "plt.tight_layout()\n",
    "\n",
    "plt.savefig(\"Particle_density_function_log2.pdf\", format=\"pdf\")"
   ]
  },
  {
   "cell_type": "code",
   "execution_count": 94,
   "metadata": {},
   "outputs": [
    {
     "data": {
      "text/plain": [
       "[nan,\n",
       " nan,\n",
       " 5.968310365946076e-06,\n",
       " 5.968310365946076e-06,\n",
       " 1.2414085561167838e-05,\n",
       " 1.2414085561167838e-05,\n",
       " 6.207042780583919e-06,\n",
       " 6.207042780583919e-06,\n",
       " 6.445775195221762e-06,\n",
       " 6.445775195221762e-06,\n",
       " 2.3873241463784303e-06,\n",
       " 2.3873241463784303e-06,\n",
       " 7.161972439135291e-07,\n",
       " 7.161972439135291e-07,\n",
       " nan,\n",
       " nan,\n",
       " nan,\n",
       " nan,\n",
       " nan,\n",
       " nan,\n",
       " nan,\n",
       " nan,\n",
       " nan,\n",
       " nan]"
      ]
     },
     "execution_count": 94,
     "metadata": {},
     "output_type": "execute_result"
    }
   ],
   "source": [
    "hist_steps[0]"
   ]
  },
  {
   "cell_type": "code",
   "execution_count": null,
   "metadata": {},
   "outputs": [],
   "source": []
  }
 ],
 "metadata": {
  "kernelspec": {
   "display_name": "Python 3",
   "language": "python",
   "name": "python3"
  },
  "language_info": {
   "codemirror_mode": {
    "name": "ipython",
    "version": 3
   },
   "file_extension": ".py",
   "mimetype": "text/x-python",
   "name": "python",
   "nbconvert_exporter": "python",
   "pygments_lexer": "ipython3",
   "version": "3.6.5"
  }
 },
 "nbformat": 4,
 "nbformat_minor": 2
}
