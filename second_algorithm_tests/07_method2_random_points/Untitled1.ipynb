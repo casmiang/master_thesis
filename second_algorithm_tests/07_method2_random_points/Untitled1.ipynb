{
 "cells": [
  {
   "cell_type": "code",
   "execution_count": 1,
   "metadata": {},
   "outputs": [],
   "source": [
    "import numpy as np\n",
    "import matplotlib.pyplot as plt\n",
    "from mpl_toolkits.mplot3d import Axes3D"
   ]
  },
  {
   "cell_type": "code",
   "execution_count": 37,
   "metadata": {},
   "outputs": [],
   "source": [
    "BoxLength = 60"
   ]
  },
  {
   "cell_type": "code",
   "execution_count": 2,
   "metadata": {},
   "outputs": [],
   "source": [
    "\n",
    "filename = \"small_bskeleton.bsk\"\n",
    "\n",
    "# Full Catalog (cat + rndm) Beta Skeleton\n",
    "fcBSkel = np.loadtxt(filename)"
   ]
  },
  {
   "cell_type": "code",
   "execution_count": 3,
   "metadata": {},
   "outputs": [],
   "source": [
    "# First Filter = full_catalog_BetaSkeleton /2 (only random points in the first column)\n",
    "# first filter handmade.\n",
    "\n",
    "first_filter = fcBSkel"
   ]
  },
  {
   "cell_type": "code",
   "execution_count": 4,
   "metadata": {
    "scrolled": true
   },
   "outputs": [
    {
     "data": {
      "text/plain": [
       "array([[ 1., 34.],\n",
       "       [ 1., 29.],\n",
       "       [ 1., 15.],\n",
       "       [ 2., 17.],\n",
       "       [ 2., 20.],\n",
       "       [ 3., 19.],\n",
       "       [ 3., 25.],\n",
       "       [ 4., 27.],\n",
       "       [ 4., 28.],\n",
       "       [ 2., 19.],\n",
       "       [ 5., 17.],\n",
       "       [ 5., 29.],\n",
       "       [ 5., 30.],\n",
       "       [ 6., 31.],\n",
       "       [ 6., 32.],\n",
       "       [ 7., 13.],\n",
       "       [ 7., 18.],\n",
       "       [ 7., 22.],\n",
       "       [ 8., 19.],\n",
       "       [ 8.,  3.],\n",
       "       [ 9., 26.],\n",
       "       [ 9., 35.],\n",
       "       [10., 24.],\n",
       "       [10., 25.],\n",
       "       [10., 36.],\n",
       "       [10., 37.],\n",
       "       [11., 23.],\n",
       "       [11., 24.],\n",
       "       [11., 37.],\n",
       "       [12., 22.],\n",
       "       [12., 40.],\n",
       "       [13.,  7.],\n",
       "       [13., 20.],\n",
       "       [13., 21.],\n",
       "       [13., 38.],\n",
       "       [14., 30.],\n",
       "       [14., 31.],\n",
       "       [14., 33.],\n",
       "       [15.,  1.],\n",
       "       [15., 28.],\n",
       "       [15., 29.],\n",
       "       [16., 33.],\n",
       "       [16., 39.],\n",
       "       [17.,  5.],\n",
       "       [17.,  2.],\n",
       "       [18.,  7.],\n",
       "       [18., 23.],\n",
       "       [19.,  3.],\n",
       "       [19.,  4.],\n",
       "       [19.,  8.],\n",
       "       [19., 26.],\n",
       "       [20.,  2.],\n",
       "       [20., 13.],\n",
       "       [20., 32.],\n",
       "       [20., 38.]])"
      ]
     },
     "execution_count": 4,
     "metadata": {},
     "output_type": "execute_result"
    }
   ],
   "source": [
    "first_filter"
   ]
  },
  {
   "cell_type": "code",
   "execution_count": 5,
   "metadata": {},
   "outputs": [],
   "source": [
    "N = 20\n",
    "index = np.where(first_filter[:,1]>N)"
   ]
  },
  {
   "cell_type": "code",
   "execution_count": 6,
   "metadata": {},
   "outputs": [
    {
     "data": {
      "text/plain": [
       "(array([ 0,  1,  6,  7,  8, 11, 12, 13, 14, 17, 20, 21, 22, 23, 24, 25, 26,\n",
       "        27, 28, 29, 30, 33, 34, 35, 36, 37, 39, 40, 41, 42, 46, 50, 53, 54]),)"
      ]
     },
     "execution_count": 6,
     "metadata": {},
     "output_type": "execute_result"
    }
   ],
   "source": [
    "index"
   ]
  },
  {
   "cell_type": "code",
   "execution_count": 7,
   "metadata": {},
   "outputs": [],
   "source": [
    "droplist_raw = list( first_filter[index[0],0].astype(int) )"
   ]
  },
  {
   "cell_type": "code",
   "execution_count": 8,
   "metadata": {
    "scrolled": true
   },
   "outputs": [
    {
     "data": {
      "text/plain": [
       "[1,\n",
       " 1,\n",
       " 3,\n",
       " 4,\n",
       " 4,\n",
       " 5,\n",
       " 5,\n",
       " 6,\n",
       " 6,\n",
       " 7,\n",
       " 9,\n",
       " 9,\n",
       " 10,\n",
       " 10,\n",
       " 10,\n",
       " 10,\n",
       " 11,\n",
       " 11,\n",
       " 11,\n",
       " 12,\n",
       " 12,\n",
       " 13,\n",
       " 13,\n",
       " 14,\n",
       " 14,\n",
       " 14,\n",
       " 15,\n",
       " 15,\n",
       " 16,\n",
       " 16,\n",
       " 18,\n",
       " 19,\n",
       " 20,\n",
       " 20]"
      ]
     },
     "execution_count": 8,
     "metadata": {},
     "output_type": "execute_result"
    }
   ],
   "source": [
    "droplist_raw"
   ]
  },
  {
   "cell_type": "code",
   "execution_count": 9,
   "metadata": {},
   "outputs": [],
   "source": [
    "droplist = set(droplist_raw)"
   ]
  },
  {
   "cell_type": "code",
   "execution_count": 10,
   "metadata": {},
   "outputs": [
    {
     "data": {
      "text/plain": [
       "{1, 3, 4, 5, 6, 7, 9, 10, 11, 12, 13, 14, 15, 16, 18, 19, 20}"
      ]
     },
     "execution_count": 10,
     "metadata": {},
     "output_type": "execute_result"
    }
   ],
   "source": [
    "droplist"
   ]
  },
  {
   "cell_type": "code",
   "execution_count": 11,
   "metadata": {},
   "outputs": [],
   "source": [
    "candidates = set(range(N))"
   ]
  },
  {
   "cell_type": "code",
   "execution_count": 12,
   "metadata": {},
   "outputs": [
    {
     "data": {
      "text/plain": [
       "{0, 1, 2, 3, 4, 5, 6, 7, 8, 9, 10, 11, 12, 13, 14, 15, 16, 17, 18, 19}"
      ]
     },
     "execution_count": 12,
     "metadata": {},
     "output_type": "execute_result"
    }
   ],
   "source": [
    "candidates"
   ]
  },
  {
   "cell_type": "code",
   "execution_count": 13,
   "metadata": {},
   "outputs": [
    {
     "data": {
      "text/plain": [
       "{0, 2, 8, 17}"
      ]
     },
     "execution_count": 13,
     "metadata": {},
     "output_type": "execute_result"
    }
   ],
   "source": [
    "candidates.difference(droplist)"
   ]
  },
  {
   "cell_type": "code",
   "execution_count": null,
   "metadata": {},
   "outputs": [],
   "source": []
  },
  {
   "cell_type": "code",
   "execution_count": null,
   "metadata": {},
   "outputs": [],
   "source": []
  },
  {
   "cell_type": "code",
   "execution_count": 14,
   "metadata": {},
   "outputs": [],
   "source": [
    "filename = \"A123456789B.cat\"\n",
    "catalog = np.loadtxt(filename)\n",
    "N = catalog.shape[0]\n",
    "\n",
    "\n",
    "filename = \"fullCat.cat\"\n",
    "fullcat = np.loadtxt(filename)\n",
    "\n",
    "\n",
    "filename = \"fullCat_BETA_1.0.bsk\"\n",
    "\n",
    "# Full Catalog (cat + rndm) Beta Skeleton\n",
    "fcBSkel = np.loadtxt(filename)"
   ]
  },
  {
   "cell_type": "code",
   "execution_count": 15,
   "metadata": {},
   "outputs": [
    {
     "data": {
      "text/plain": [
       "(75914, 2)"
      ]
     },
     "execution_count": 15,
     "metadata": {},
     "output_type": "execute_result"
    }
   ],
   "source": [
    "fcBSkel.shape"
   ]
  },
  {
   "cell_type": "code",
   "execution_count": 16,
   "metadata": {},
   "outputs": [
    {
     "data": {
      "text/plain": [
       "(38026, 2)"
      ]
     },
     "execution_count": 16,
     "metadata": {},
     "output_type": "execute_result"
    }
   ],
   "source": [
    "index = np.where( fcBSkel[:,0] < N )[0]\n",
    "first_filter = fcBSkel[index].astype(int)\n",
    "first_filter.shape"
   ]
  },
  {
   "cell_type": "code",
   "execution_count": 17,
   "metadata": {},
   "outputs": [],
   "source": [
    "index = np.where( first_filter[:,1] >= N )[0]\n",
    "droplist_raw = first_filter[index,0]"
   ]
  },
  {
   "cell_type": "code",
   "execution_count": 18,
   "metadata": {},
   "outputs": [],
   "source": [
    "droplist = set(droplist_raw)"
   ]
  },
  {
   "cell_type": "code",
   "execution_count": 19,
   "metadata": {},
   "outputs": [
    {
     "data": {
      "text/plain": [
       "4505"
      ]
     },
     "execution_count": 19,
     "metadata": {},
     "output_type": "execute_result"
    }
   ],
   "source": [
    "len(droplist)"
   ]
  },
  {
   "cell_type": "code",
   "execution_count": 20,
   "metadata": {},
   "outputs": [
    {
     "data": {
      "text/plain": [
       "5042"
      ]
     },
     "execution_count": 20,
     "metadata": {},
     "output_type": "execute_result"
    }
   ],
   "source": [
    "list(droplist)[-1]"
   ]
  },
  {
   "cell_type": "code",
   "execution_count": 21,
   "metadata": {},
   "outputs": [],
   "source": [
    "index = np.where( first_filter[:,0] == 0)[0]"
   ]
  },
  {
   "cell_type": "code",
   "execution_count": 22,
   "metadata": {},
   "outputs": [
    {
     "data": {
      "text/plain": [
       "array([0, 1, 2, 3, 4, 5])"
      ]
     },
     "execution_count": 22,
     "metadata": {},
     "output_type": "execute_result"
    }
   ],
   "source": [
    "index"
   ]
  },
  {
   "cell_type": "code",
   "execution_count": 23,
   "metadata": {},
   "outputs": [
    {
     "data": {
      "text/plain": [
       "array([[    0.,  6047.],\n",
       "       [    0.,  9869.],\n",
       "       [    0.,  6819.],\n",
       "       [    0.,  9276.],\n",
       "       [    0., 10041.],\n",
       "       [    0.,  6919.]])"
      ]
     },
     "execution_count": 23,
     "metadata": {},
     "output_type": "execute_result"
    }
   ],
   "source": [
    "fcBSkel[index]"
   ]
  },
  {
   "cell_type": "code",
   "execution_count": null,
   "metadata": {},
   "outputs": [],
   "source": []
  },
  {
   "cell_type": "code",
   "execution_count": null,
   "metadata": {},
   "outputs": [],
   "source": []
  },
  {
   "cell_type": "code",
   "execution_count": 24,
   "metadata": {},
   "outputs": [],
   "source": [
    "rndmcat_index = set(range(N))"
   ]
  },
  {
   "cell_type": "code",
   "execution_count": 25,
   "metadata": {},
   "outputs": [],
   "source": [
    "candidates = rndmcat_index.difference(droplist)"
   ]
  },
  {
   "cell_type": "code",
   "execution_count": 26,
   "metadata": {},
   "outputs": [],
   "source": [
    "candidates = list(candidates)"
   ]
  },
  {
   "cell_type": "code",
   "execution_count": 27,
   "metadata": {},
   "outputs": [],
   "source": [
    "void_cat = fullcat[candidates]"
   ]
  },
  {
   "cell_type": "code",
   "execution_count": null,
   "metadata": {},
   "outputs": [],
   "source": []
  },
  {
   "cell_type": "code",
   "execution_count": 28,
   "metadata": {
    "scrolled": false
   },
   "outputs": [],
   "source": [
    "candidates.sort()"
   ]
  },
  {
   "cell_type": "code",
   "execution_count": 29,
   "metadata": {},
   "outputs": [
    {
     "data": {
      "text/plain": [
       "[5,\n",
       " 9,\n",
       " 20,\n",
       " 40,\n",
       " 41,\n",
       " 44,\n",
       " 64,\n",
       " 66,\n",
       " 68,\n",
       " 81,\n",
       " 92,\n",
       " 100,\n",
       " 113,\n",
       " 114,\n",
       " 115,\n",
       " 116,\n",
       " 130,\n",
       " 131,\n",
       " 132,\n",
       " 163,\n",
       " 165,\n",
       " 168,\n",
       " 172,\n",
       " 188,\n",
       " 189,\n",
       " 191,\n",
       " 198,\n",
       " 214,\n",
       " 216,\n",
       " 222,\n",
       " 223,\n",
       " 225,\n",
       " 239,\n",
       " 250,\n",
       " 257,\n",
       " 258,\n",
       " 260,\n",
       " 270,\n",
       " 282,\n",
       " 284,\n",
       " 285,\n",
       " 287,\n",
       " 289,\n",
       " 291,\n",
       " 300,\n",
       " 305,\n",
       " 315,\n",
       " 324,\n",
       " 326,\n",
       " 336,\n",
       " 337,\n",
       " 343,\n",
       " 348,\n",
       " 350,\n",
       " 363,\n",
       " 378,\n",
       " 380,\n",
       " 401,\n",
       " 404,\n",
       " 414,\n",
       " 419,\n",
       " 431,\n",
       " 458,\n",
       " 459,\n",
       " 460,\n",
       " 487,\n",
       " 513,\n",
       " 517,\n",
       " 520,\n",
       " 526,\n",
       " 558,\n",
       " 564,\n",
       " 569,\n",
       " 578,\n",
       " 583,\n",
       " 587,\n",
       " 597,\n",
       " 599,\n",
       " 606,\n",
       " 614,\n",
       " 652,\n",
       " 668,\n",
       " 669,\n",
       " 679,\n",
       " 681,\n",
       " 688,\n",
       " 702,\n",
       " 706,\n",
       " 713,\n",
       " 731,\n",
       " 738,\n",
       " 746,\n",
       " 747,\n",
       " 783,\n",
       " 800,\n",
       " 808,\n",
       " 809,\n",
       " 836,\n",
       " 851,\n",
       " 859,\n",
       " 868,\n",
       " 870,\n",
       " 872,\n",
       " 891,\n",
       " 892,\n",
       " 905,\n",
       " 908,\n",
       " 910,\n",
       " 919,\n",
       " 937,\n",
       " 945,\n",
       " 950,\n",
       " 958,\n",
       " 966,\n",
       " 974,\n",
       " 977,\n",
       " 979,\n",
       " 985,\n",
       " 994,\n",
       " 1001,\n",
       " 1003,\n",
       " 1010,\n",
       " 1012,\n",
       " 1021,\n",
       " 1029,\n",
       " 1032,\n",
       " 1066,\n",
       " 1076,\n",
       " 1086,\n",
       " 1090,\n",
       " 1115,\n",
       " 1117,\n",
       " 1121,\n",
       " 1128,\n",
       " 1138,\n",
       " 1140,\n",
       " 1141,\n",
       " 1163,\n",
       " 1168,\n",
       " 1170,\n",
       " 1172,\n",
       " 1173,\n",
       " 1179,\n",
       " 1182,\n",
       " 1183,\n",
       " 1188,\n",
       " 1220,\n",
       " 1222,\n",
       " 1232,\n",
       " 1233,\n",
       " 1238,\n",
       " 1242,\n",
       " 1253,\n",
       " 1257,\n",
       " 1264,\n",
       " 1268,\n",
       " 1292,\n",
       " 1325,\n",
       " 1334,\n",
       " 1342,\n",
       " 1343,\n",
       " 1345,\n",
       " 1347,\n",
       " 1352,\n",
       " 1356,\n",
       " 1367,\n",
       " 1394,\n",
       " 1398,\n",
       " 1421,\n",
       " 1428,\n",
       " 1432,\n",
       " 1434,\n",
       " 1436,\n",
       " 1440,\n",
       " 1441,\n",
       " 1442,\n",
       " 1463,\n",
       " 1467,\n",
       " 1484,\n",
       " 1490,\n",
       " 1495,\n",
       " 1532,\n",
       " 1535,\n",
       " 1543,\n",
       " 1549,\n",
       " 1551,\n",
       " 1555,\n",
       " 1559,\n",
       " 1562,\n",
       " 1581,\n",
       " 1584,\n",
       " 1588,\n",
       " 1591,\n",
       " 1618,\n",
       " 1621,\n",
       " 1622,\n",
       " 1626,\n",
       " 1629,\n",
       " 1632,\n",
       " 1633,\n",
       " 1645,\n",
       " 1655,\n",
       " 1656,\n",
       " 1657,\n",
       " 1660,\n",
       " 1691,\n",
       " 1692,\n",
       " 1712,\n",
       " 1725,\n",
       " 1729,\n",
       " 1730,\n",
       " 1733,\n",
       " 1779,\n",
       " 1784,\n",
       " 1793,\n",
       " 1794,\n",
       " 1801,\n",
       " 1816,\n",
       " 1820,\n",
       " 1844,\n",
       " 1885,\n",
       " 1887,\n",
       " 1889,\n",
       " 1907,\n",
       " 1908,\n",
       " 1935,\n",
       " 1936,\n",
       " 1937,\n",
       " 1951,\n",
       " 1953,\n",
       " 1974,\n",
       " 1980,\n",
       " 1985,\n",
       " 1997,\n",
       " 1999,\n",
       " 2035,\n",
       " 2084,\n",
       " 2090,\n",
       " 2094,\n",
       " 2095,\n",
       " 2099,\n",
       " 2105,\n",
       " 2124,\n",
       " 2127,\n",
       " 2133,\n",
       " 2134,\n",
       " 2140,\n",
       " 2143,\n",
       " 2149,\n",
       " 2160,\n",
       " 2164,\n",
       " 2169,\n",
       " 2173,\n",
       " 2181,\n",
       " 2207,\n",
       " 2215,\n",
       " 2221,\n",
       " 2224,\n",
       " 2241,\n",
       " 2242,\n",
       " 2246,\n",
       " 2249,\n",
       " 2253,\n",
       " 2254,\n",
       " 2261,\n",
       " 2267,\n",
       " 2269,\n",
       " 2298,\n",
       " 2300,\n",
       " 2306,\n",
       " 2314,\n",
       " 2319,\n",
       " 2323,\n",
       " 2326,\n",
       " 2332,\n",
       " 2341,\n",
       " 2349,\n",
       " 2366,\n",
       " 2380,\n",
       " 2387,\n",
       " 2389,\n",
       " 2393,\n",
       " 2394,\n",
       " 2408,\n",
       " 2416,\n",
       " 2429,\n",
       " 2431,\n",
       " 2469,\n",
       " 2474,\n",
       " 2477,\n",
       " 2483,\n",
       " 2490,\n",
       " 2510,\n",
       " 2555,\n",
       " 2562,\n",
       " 2567,\n",
       " 2589,\n",
       " 2599,\n",
       " 2661,\n",
       " 2669,\n",
       " 2679,\n",
       " 2682,\n",
       " 2692,\n",
       " 2701,\n",
       " 2703,\n",
       " 2714,\n",
       " 2737,\n",
       " 2746,\n",
       " 2766,\n",
       " 2774,\n",
       " 2787,\n",
       " 2797,\n",
       " 2804,\n",
       " 2812,\n",
       " 2832,\n",
       " 2838,\n",
       " 2840,\n",
       " 2845,\n",
       " 2858,\n",
       " 2891,\n",
       " 2897,\n",
       " 2903,\n",
       " 2916,\n",
       " 2927,\n",
       " 2930,\n",
       " 2943,\n",
       " 2975,\n",
       " 2976,\n",
       " 3010,\n",
       " 3013,\n",
       " 3015,\n",
       " 3018,\n",
       " 3029,\n",
       " 3036,\n",
       " 3043,\n",
       " 3054,\n",
       " 3057,\n",
       " 3058,\n",
       " 3078,\n",
       " 3086,\n",
       " 3089,\n",
       " 3094,\n",
       " 3096,\n",
       " 3110,\n",
       " 3180,\n",
       " 3194,\n",
       " 3198,\n",
       " 3202,\n",
       " 3214,\n",
       " 3224,\n",
       " 3225,\n",
       " 3237,\n",
       " 3244,\n",
       " 3250,\n",
       " 3268,\n",
       " 3273,\n",
       " 3280,\n",
       " 3286,\n",
       " 3289,\n",
       " 3293,\n",
       " 3298,\n",
       " 3301,\n",
       " 3304,\n",
       " 3305,\n",
       " 3307,\n",
       " 3327,\n",
       " 3337,\n",
       " 3339,\n",
       " 3348,\n",
       " 3352,\n",
       " 3358,\n",
       " 3363,\n",
       " 3371,\n",
       " 3378,\n",
       " 3390,\n",
       " 3391,\n",
       " 3421,\n",
       " 3422,\n",
       " 3430,\n",
       " 3440,\n",
       " 3460,\n",
       " 3466,\n",
       " 3470,\n",
       " 3487,\n",
       " 3512,\n",
       " 3514,\n",
       " 3515,\n",
       " 3516,\n",
       " 3519,\n",
       " 3524,\n",
       " 3526,\n",
       " 3541,\n",
       " 3545,\n",
       " 3550,\n",
       " 3553,\n",
       " 3560,\n",
       " 3567,\n",
       " 3568,\n",
       " 3571,\n",
       " 3572,\n",
       " 3575,\n",
       " 3592,\n",
       " 3602,\n",
       " 3633,\n",
       " 3651,\n",
       " 3657,\n",
       " 3662,\n",
       " 3689,\n",
       " 3692,\n",
       " 3702,\n",
       " 3715,\n",
       " 3726,\n",
       " 3733,\n",
       " 3743,\n",
       " 3744,\n",
       " 3774,\n",
       " 3781,\n",
       " 3784,\n",
       " 3791,\n",
       " 3796,\n",
       " 3804,\n",
       " 3805,\n",
       " 3809,\n",
       " 3811,\n",
       " 3814,\n",
       " 3818,\n",
       " 3850,\n",
       " 3852,\n",
       " 3872,\n",
       " 3931,\n",
       " 3940,\n",
       " 3944,\n",
       " 3970,\n",
       " 3973,\n",
       " 3977,\n",
       " 3979,\n",
       " 3993,\n",
       " 3998,\n",
       " 4005,\n",
       " 4021,\n",
       " 4035,\n",
       " 4046,\n",
       " 4076,\n",
       " 4088,\n",
       " 4100,\n",
       " 4113,\n",
       " 4114,\n",
       " 4147,\n",
       " 4151,\n",
       " 4153,\n",
       " 4162,\n",
       " 4168,\n",
       " 4177,\n",
       " 4194,\n",
       " 4197,\n",
       " 4215,\n",
       " 4220,\n",
       " 4235,\n",
       " 4271,\n",
       " 4273,\n",
       " 4277,\n",
       " 4290,\n",
       " 4311,\n",
       " 4335,\n",
       " 4348,\n",
       " 4355,\n",
       " 4361,\n",
       " 4368,\n",
       " 4377,\n",
       " 4379,\n",
       " 4382,\n",
       " 4383,\n",
       " 4406,\n",
       " 4409,\n",
       " 4417,\n",
       " 4426,\n",
       " 4456,\n",
       " 4457,\n",
       " 4459,\n",
       " 4469,\n",
       " 4478,\n",
       " 4489,\n",
       " 4499,\n",
       " 4508,\n",
       " 4530,\n",
       " 4555,\n",
       " 4560,\n",
       " 4561,\n",
       " 4590,\n",
       " 4591,\n",
       " 4595,\n",
       " 4597,\n",
       " 4611,\n",
       " 4622,\n",
       " 4626,\n",
       " 4642,\n",
       " 4657,\n",
       " 4670,\n",
       " 4680,\n",
       " 4684,\n",
       " 4702,\n",
       " 4708,\n",
       " 4718,\n",
       " 4742,\n",
       " 4751,\n",
       " 4753,\n",
       " 4761,\n",
       " 4770,\n",
       " 4793,\n",
       " 4796,\n",
       " 4810,\n",
       " 4812,\n",
       " 4814,\n",
       " 4820,\n",
       " 4826,\n",
       " 4838,\n",
       " 4845,\n",
       " 4846,\n",
       " 4868,\n",
       " 4870,\n",
       " 4883,\n",
       " 4884,\n",
       " 4894,\n",
       " 4899,\n",
       " 4901,\n",
       " 4912,\n",
       " 4920,\n",
       " 4928,\n",
       " 4930,\n",
       " 4933,\n",
       " 4938,\n",
       " 4949,\n",
       " 4951,\n",
       " 4976,\n",
       " 4979,\n",
       " 4989,\n",
       " 5004,\n",
       " 5009]"
      ]
     },
     "execution_count": 29,
     "metadata": {},
     "output_type": "execute_result"
    }
   ],
   "source": [
    "candidates"
   ]
  },
  {
   "cell_type": "code",
   "execution_count": 30,
   "metadata": {},
   "outputs": [
    {
     "data": {
      "text/plain": [
       "array([ 9.98067411, 10.0704983 , 39.41591646])"
      ]
     },
     "execution_count": 30,
     "metadata": {},
     "output_type": "execute_result"
    }
   ],
   "source": [
    "fullcat[5]"
   ]
  },
  {
   "cell_type": "code",
   "execution_count": 31,
   "metadata": {},
   "outputs": [],
   "source": [
    "index = np.where( fcBSkel[:,0] == 9)[0]"
   ]
  },
  {
   "cell_type": "code",
   "execution_count": 32,
   "metadata": {},
   "outputs": [
    {
     "data": {
      "text/plain": [
       "array([[   9, 2394],\n",
       "       [   9, 4751],\n",
       "       [   9, 3805],\n",
       "       [   9, 2787],\n",
       "       [   9, 4555],\n",
       "       [   9,  569],\n",
       "       [   9, 1170],\n",
       "       [   9, 4335]])"
      ]
     },
     "execution_count": 32,
     "metadata": {},
     "output_type": "execute_result"
    }
   ],
   "source": [
    "fcBSkel[index].astype(int)"
   ]
  },
  {
   "cell_type": "code",
   "execution_count": 33,
   "metadata": {},
   "outputs": [
    {
     "data": {
      "text/plain": [
       "array([[   9, 2394],\n",
       "       [   9, 4751],\n",
       "       [   9, 3805],\n",
       "       [   9, 2787],\n",
       "       [   9, 4555],\n",
       "       [   9,  569],\n",
       "       [   9, 1170],\n",
       "       [   9, 4335]])"
      ]
     },
     "execution_count": 33,
     "metadata": {},
     "output_type": "execute_result"
    }
   ],
   "source": [
    "index = np.where( first_filter[:,0] == 9)[0]\n",
    "first_filter[index]"
   ]
  },
  {
   "cell_type": "code",
   "execution_count": null,
   "metadata": {},
   "outputs": [],
   "source": []
  },
  {
   "cell_type": "code",
   "execution_count": 34,
   "metadata": {},
   "outputs": [],
   "source": [
    "def IsInsideVoid(v):\n",
    "    # Position vector components\n",
    "    x = v[0]\n",
    "    y = v[1]\n",
    "    z = v[2]\n",
    "    \n",
    "    # Void sphere center\n",
    "    x0 = 0.50 * BoxLength\n",
    "    y0 = 0.50 * BoxLength\n",
    "    z0 = 0.50 * BoxLength\n",
    "\n",
    "    # Distance to the void center\n",
    "    d = ( (x0 - x)**2 + (y0 - y)**2 + (z0 - z)**2)**0.5 \n",
    "    \n",
    "    if ( d < R ):\n",
    "        return 1;\n",
    "    else:\n",
    "        return 0;"
   ]
  },
  {
   "cell_type": "code",
   "execution_count": 56,
   "metadata": {},
   "outputs": [
    {
     "data": {
      "image/png": "[encoded data removed]",
      "text/plain": [
       "<Figure size 576x576 with 1 Axes>"
      ]
     },
     "metadata": {},
     "output_type": "display_data"
    }
   ],
   "source": [
    "BoxLength = 60\n",
    "\n",
    "R = 20\n",
    "\n",
    "slice_height = 5\n",
    "\n",
    "fig = plt.figure(figsize=[8,8])\n",
    "\n",
    "index = np.where( abs(catalog[:,2] - BoxLength / 2) < slice_height )        \n",
    "plt.scatter(catalog[index,0], catalog[index,1], s=5, label=\"Observed Catalog\")\n",
    "\n",
    "index = np.where( abs(rndmcat[:,2] - BoxLength / 2) < slice_height )        \n",
    "plt.scatter(rndmcat[index,0], rndmcat[index,1], s=5, label=\"Random Catalog\")\n",
    "plt.legend(loc=1)\n",
    "#index = np.where( abs(void_cat[:,2] - BoxLength / 2) < slice_height )        \n",
    "#plt.scatter(void_cat[index,0], void_cat[index,1], s=10)\n",
    "\n",
    "plt.savefig(\"slice_OC_plus_RC.pdf\", format=\"pdf\")"
   ]
  },
  {
   "cell_type": "code",
   "execution_count": 58,
   "metadata": {
    "scrolled": false
   },
   "outputs": [
    {
     "data": {
      "image/png": "[encoded data removed]",
      "text/plain": [
       "<Figure size 576x576 with 1 Axes>"
      ]
     },
     "metadata": {},
     "output_type": "display_data"
    }
   ],
   "source": [
    "slice_height = 5\n",
    "\n",
    "fig = plt.figure(figsize=[8,8])\n",
    "\n",
    "index = np.where( abs(catalog[:,2] - BoxLength / 2) < slice_height )        \n",
    "plt.scatter(catalog[index,0], catalog[index,1], s=1, label=\"Observed Catalog\")\n",
    "\n",
    "index = np.where( abs(rndmcat[:,2] - BoxLength / 2) < slice_height )        \n",
    "plt.scatter(rndmcat[index,0], rndmcat[index,1], s=1, label=\"Random Catalog\")\n",
    "\n",
    "index = np.where( abs(void_cat[:,2] - BoxLength / 2) < slice_height )        \n",
    "plt.scatter(void_cat[index,0], void_cat[index,1], s=10, label=\"Void Points???\")\n",
    "\n",
    "plt.legend(loc=1)\n",
    "\n",
    "plt.savefig(\"slice_OC_RC_VoidPoints.pdf\", format=\"pdf\")"
   ]
  },
  {
   "cell_type": "code",
   "execution_count": 40,
   "metadata": {},
   "outputs": [
    {
     "data": {
      "text/plain": [
       "0"
      ]
     },
     "execution_count": 40,
     "metadata": {},
     "output_type": "execute_result"
    }
   ],
   "source": [
    "IsInsideVoid( fullcat[882])"
   ]
  },
  {
   "cell_type": "code",
   "execution_count": 41,
   "metadata": {},
   "outputs": [],
   "source": [
    "rndmcat = fullcat[:N]\n",
    "catalog = fullcat[N:]"
   ]
  },
  {
   "cell_type": "code",
   "execution_count": null,
   "metadata": {},
   "outputs": [],
   "source": []
  },
  {
   "cell_type": "code",
   "execution_count": 42,
   "metadata": {},
   "outputs": [
    {
     "name": "stdout",
     "output_type": "stream",
     "text": [
      "(538, 3)\n"
     ]
    },
    {
     "data": {
      "image/png": "[encoded data removed]",
      "text/plain": [
       "<Figure size 432x432 with 1 Axes>"
      ]
     },
     "metadata": {},
     "output_type": "display_data"
    }
   ],
   "source": [
    "sphere = void_cat\n",
    "print(sphere.shape)\n",
    "\n",
    "x = sphere[:,0]\n",
    "y = sphere[:,1]\n",
    "z = sphere[:,2]\n",
    "\n",
    "fig = plt.figure(figsize=(6,6))\n",
    "ax = fig.add_subplot(111, projection='3d')\n",
    "ax.set_aspect('equal')\n",
    "\n",
    "ax.scatter(x, y, z, s=5)\n",
    "ax.view_init(30, 30)\n",
    "\n",
    "plt.title(\"Spherical Void Recognition\\nUsing RandomPoints & 1-Skeleton\")\n",
    "plt.tight_layout()\n",
    "#plt.savefig(\"IrregularVoidSurface_for_\" + a_label + \"-\" + b_label + \"-skeletons.pdf\")\n",
    "#plt.close()\n",
    "\n",
    "plt.show()"
   ]
  },
  {
   "cell_type": "code",
   "execution_count": null,
   "metadata": {},
   "outputs": [],
   "source": []
  }
 ],
 "metadata": {
  "kernelspec": {
   "display_name": "Python 3",
   "language": "python",
   "name": "python3"
  },
  "language_info": {
   "codemirror_mode": {
    "name": "ipython",
    "version": 3
   },
   "file_extension": ".py",
   "mimetype": "text/x-python",
   "name": "python",
   "nbconvert_exporter": "python",
   "pygments_lexer": "ipython3",
   "version": "3.6.5"
  }
 },
 "nbformat": 4,
 "nbformat_minor": 2
}
